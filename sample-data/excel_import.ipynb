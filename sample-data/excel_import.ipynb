{
 "cells": [
  {
   "cell_type": "markdown",
   "metadata": {},
   "source": [
    "# Imports and config"
   ]
  },
  {
   "cell_type": "code",
   "execution_count": 2,
   "metadata": {},
   "outputs": [],
   "source": [
    "import numpy as np\n",
    "import pandas as pd\n",
    "import seaborn as sns\n",
    "import matplotlib.pyplot as plt"
   ]
  },
  {
   "cell_type": "code",
   "execution_count": 3,
   "metadata": {},
   "outputs": [],
   "source": [
    "%matplotlib inline"
   ]
  },
  {
   "cell_type": "markdown",
   "metadata": {},
   "source": [
    "# Explore excel\n",
    "\n",
    "First step, let's explore the excel. I'll just read the excel into pandas, and see what I get, how I can cleanup."
   ]
  },
  {
   "cell_type": "code",
   "execution_count": 4,
   "metadata": {},
   "outputs": [],
   "source": [
    "asientos = pd.read_excel('plantilla.xlsx', sheet_name='simple')"
   ]
  },
  {
   "cell_type": "code",
   "execution_count": 5,
   "metadata": {},
   "outputs": [
    {
     "data": {
      "text/html": [
       "<div>\n",
       "<style scoped>\n",
       "    .dataframe tbody tr th:only-of-type {\n",
       "        vertical-align: middle;\n",
       "    }\n",
       "\n",
       "    .dataframe tbody tr th {\n",
       "        vertical-align: top;\n",
       "    }\n",
       "\n",
       "    .dataframe thead th {\n",
       "        text-align: right;\n",
       "    }\n",
       "</style>\n",
       "<table border=\"1\" class=\"dataframe\">\n",
       "  <thead>\n",
       "    <tr style=\"text-align: right;\">\n",
       "      <th></th>\n",
       "      <th>Unnamed: 0</th>\n",
       "      <th>Unnamed: 1</th>\n",
       "      <th>Unnamed: 2</th>\n",
       "      <th>Unnamed: 3</th>\n",
       "      <th>Unnamed: 4</th>\n",
       "      <th>Unnamed: 5</th>\n",
       "      <th>Unnamed: 6</th>\n",
       "      <th>Unnamed: 7</th>\n",
       "      <th>Unnamed: 8</th>\n",
       "      <th>Unnamed: 9</th>\n",
       "      <th>Unnamed: 10</th>\n",
       "    </tr>\n",
       "  </thead>\n",
       "  <tbody>\n",
       "    <tr>\n",
       "      <th>0</th>\n",
       "      <td>NaN</td>\n",
       "      <td>NaN</td>\n",
       "      <td>NaN</td>\n",
       "      <td>NaN</td>\n",
       "      <td>NaN</td>\n",
       "      <td>NaN</td>\n",
       "      <td>NaN</td>\n",
       "      <td>NaN</td>\n",
       "      <td>NaN</td>\n",
       "      <td>NaN</td>\n",
       "      <td>NaN</td>\n",
       "    </tr>\n",
       "    <tr>\n",
       "      <th>1</th>\n",
       "      <td>NaN</td>\n",
       "      <td>Fecha</td>\n",
       "      <td>Descripción</td>\n",
       "      <td>Valor</td>\n",
       "      <td>Debe</td>\n",
       "      <td>Haber</td>\n",
       "      <td>C. Debe</td>\n",
       "      <td>C. Haber</td>\n",
       "      <td>NaN</td>\n",
       "      <td>Search:</td>\n",
       "      <td>comida</td>\n",
       "    </tr>\n",
       "    <tr>\n",
       "      <th>2</th>\n",
       "      <td>NaN</td>\n",
       "      <td>2021-12-01 00:00:00</td>\n",
       "      <td>Compra pan</td>\n",
       "      <td>2.54</td>\n",
       "      <td>100</td>\n",
       "      <td>300</td>\n",
       "      <td>Caja</td>\n",
       "      <td>Comida</td>\n",
       "      <td>NaN</td>\n",
       "      <td>NaN</td>\n",
       "      <td>NaN</td>\n",
       "    </tr>\n",
       "    <tr>\n",
       "      <th>3</th>\n",
       "      <td>NaN</td>\n",
       "      <td>2021-12-02 00:00:00</td>\n",
       "      <td>Pizzas Telepizza</td>\n",
       "      <td>24</td>\n",
       "      <td>100</td>\n",
       "      <td>312</td>\n",
       "      <td>Caja</td>\n",
       "      <td>Comidas, cenas…</td>\n",
       "      <td>NaN</td>\n",
       "      <td>Cuenta</td>\n",
       "      <td>Descripción</td>\n",
       "    </tr>\n",
       "    <tr>\n",
       "      <th>4</th>\n",
       "      <td>NaN</td>\n",
       "      <td>2021-12-03 00:00:00</td>\n",
       "      <td>Gasolina coche</td>\n",
       "      <td>54</td>\n",
       "      <td>1200</td>\n",
       "      <td>324</td>\n",
       "      <td>Tarjeta Visa</td>\n",
       "      <td>Gastos coche</td>\n",
       "      <td>NaN</td>\n",
       "      <td>300</td>\n",
       "      <td>Comida</td>\n",
       "    </tr>\n",
       "    <tr>\n",
       "      <th>5</th>\n",
       "      <td>NaN</td>\n",
       "      <td>2021-12-04 00:00:00</td>\n",
       "      <td>Hipoteca</td>\n",
       "      <td>524</td>\n",
       "      <td>1101</td>\n",
       "      <td>15</td>\n",
       "      <td>Cuenta nómina</td>\n",
       "      <td>Hipoteca</td>\n",
       "      <td>NaN</td>\n",
       "      <td>312</td>\n",
       "      <td>Comidas, cenas…</td>\n",
       "    </tr>\n",
       "    <tr>\n",
       "      <th>6</th>\n",
       "      <td>NaN</td>\n",
       "      <td>2021-12-05 00:00:00</td>\n",
       "      <td>Pago IBI</td>\n",
       "      <td>234</td>\n",
       "      <td>1101</td>\n",
       "      <td>203</td>\n",
       "      <td>Cuenta nómina</td>\n",
       "      <td>Impuestos casa</td>\n",
       "      <td>NaN</td>\n",
       "      <td>NaN</td>\n",
       "      <td>NaN</td>\n",
       "    </tr>\n",
       "  </tbody>\n",
       "</table>\n",
       "</div>"
      ],
      "text/plain": [
       "   Unnamed: 0           Unnamed: 1        Unnamed: 2 Unnamed: 3 Unnamed: 4  \\\n",
       "0         NaN                  NaN               NaN        NaN        NaN   \n",
       "1         NaN                Fecha       Descripción      Valor       Debe   \n",
       "2         NaN  2021-12-01 00:00:00        Compra pan       2.54        100   \n",
       "3         NaN  2021-12-02 00:00:00  Pizzas Telepizza         24        100   \n",
       "4         NaN  2021-12-03 00:00:00    Gasolina coche         54       1200   \n",
       "5         NaN  2021-12-04 00:00:00          Hipoteca        524       1101   \n",
       "6         NaN  2021-12-05 00:00:00          Pago IBI        234       1101   \n",
       "\n",
       "  Unnamed: 5     Unnamed: 6       Unnamed: 7  Unnamed: 8 Unnamed: 9  \\\n",
       "0        NaN            NaN              NaN         NaN        NaN   \n",
       "1      Haber        C. Debe         C. Haber         NaN    Search:   \n",
       "2        300           Caja           Comida         NaN        NaN   \n",
       "3        312           Caja  Comidas, cenas…         NaN     Cuenta   \n",
       "4        324   Tarjeta Visa     Gastos coche         NaN        300   \n",
       "5         15  Cuenta nómina         Hipoteca         NaN        312   \n",
       "6        203  Cuenta nómina   Impuestos casa         NaN        NaN   \n",
       "\n",
       "       Unnamed: 10  \n",
       "0              NaN  \n",
       "1           comida  \n",
       "2              NaN  \n",
       "3      Descripción  \n",
       "4           Comida  \n",
       "5  Comidas, cenas…  \n",
       "6              NaN  "
      ]
     },
     "execution_count": 5,
     "metadata": {},
     "output_type": "execute_result"
    }
   ],
   "source": [
    "asientos"
   ]
  },
  {
   "cell_type": "code",
   "execution_count": 6,
   "metadata": {},
   "outputs": [],
   "source": [
    "asientos.drop(columns='Unnamed: 0', inplace=True)"
   ]
  },
  {
   "cell_type": "code",
   "execution_count": 7,
   "metadata": {},
   "outputs": [],
   "source": [
    "asientos.drop(labels=0, inplace=True)"
   ]
  },
  {
   "cell_type": "code",
   "execution_count": 8,
   "metadata": {},
   "outputs": [
    {
     "data": {
      "text/html": [
       "<div>\n",
       "<style scoped>\n",
       "    .dataframe tbody tr th:only-of-type {\n",
       "        vertical-align: middle;\n",
       "    }\n",
       "\n",
       "    .dataframe tbody tr th {\n",
       "        vertical-align: top;\n",
       "    }\n",
       "\n",
       "    .dataframe thead th {\n",
       "        text-align: right;\n",
       "    }\n",
       "</style>\n",
       "<table border=\"1\" class=\"dataframe\">\n",
       "  <thead>\n",
       "    <tr style=\"text-align: right;\">\n",
       "      <th></th>\n",
       "      <th>Unnamed: 1</th>\n",
       "      <th>Unnamed: 2</th>\n",
       "      <th>Unnamed: 3</th>\n",
       "      <th>Unnamed: 4</th>\n",
       "      <th>Unnamed: 5</th>\n",
       "      <th>Unnamed: 6</th>\n",
       "      <th>Unnamed: 7</th>\n",
       "      <th>Unnamed: 8</th>\n",
       "      <th>Unnamed: 9</th>\n",
       "      <th>Unnamed: 10</th>\n",
       "    </tr>\n",
       "  </thead>\n",
       "  <tbody>\n",
       "    <tr>\n",
       "      <th>1</th>\n",
       "      <td>Fecha</td>\n",
       "      <td>Descripción</td>\n",
       "      <td>Valor</td>\n",
       "      <td>Debe</td>\n",
       "      <td>Haber</td>\n",
       "      <td>C. Debe</td>\n",
       "      <td>C. Haber</td>\n",
       "      <td>NaN</td>\n",
       "      <td>Search:</td>\n",
       "      <td>comida</td>\n",
       "    </tr>\n",
       "    <tr>\n",
       "      <th>2</th>\n",
       "      <td>2021-12-01 00:00:00</td>\n",
       "      <td>Compra pan</td>\n",
       "      <td>2.54</td>\n",
       "      <td>100</td>\n",
       "      <td>300</td>\n",
       "      <td>Caja</td>\n",
       "      <td>Comida</td>\n",
       "      <td>NaN</td>\n",
       "      <td>NaN</td>\n",
       "      <td>NaN</td>\n",
       "    </tr>\n",
       "    <tr>\n",
       "      <th>3</th>\n",
       "      <td>2021-12-02 00:00:00</td>\n",
       "      <td>Pizzas Telepizza</td>\n",
       "      <td>24</td>\n",
       "      <td>100</td>\n",
       "      <td>312</td>\n",
       "      <td>Caja</td>\n",
       "      <td>Comidas, cenas…</td>\n",
       "      <td>NaN</td>\n",
       "      <td>Cuenta</td>\n",
       "      <td>Descripción</td>\n",
       "    </tr>\n",
       "    <tr>\n",
       "      <th>4</th>\n",
       "      <td>2021-12-03 00:00:00</td>\n",
       "      <td>Gasolina coche</td>\n",
       "      <td>54</td>\n",
       "      <td>1200</td>\n",
       "      <td>324</td>\n",
       "      <td>Tarjeta Visa</td>\n",
       "      <td>Gastos coche</td>\n",
       "      <td>NaN</td>\n",
       "      <td>300</td>\n",
       "      <td>Comida</td>\n",
       "    </tr>\n",
       "    <tr>\n",
       "      <th>5</th>\n",
       "      <td>2021-12-04 00:00:00</td>\n",
       "      <td>Hipoteca</td>\n",
       "      <td>524</td>\n",
       "      <td>1101</td>\n",
       "      <td>15</td>\n",
       "      <td>Cuenta nómina</td>\n",
       "      <td>Hipoteca</td>\n",
       "      <td>NaN</td>\n",
       "      <td>312</td>\n",
       "      <td>Comidas, cenas…</td>\n",
       "    </tr>\n",
       "    <tr>\n",
       "      <th>6</th>\n",
       "      <td>2021-12-05 00:00:00</td>\n",
       "      <td>Pago IBI</td>\n",
       "      <td>234</td>\n",
       "      <td>1101</td>\n",
       "      <td>203</td>\n",
       "      <td>Cuenta nómina</td>\n",
       "      <td>Impuestos casa</td>\n",
       "      <td>NaN</td>\n",
       "      <td>NaN</td>\n",
       "      <td>NaN</td>\n",
       "    </tr>\n",
       "  </tbody>\n",
       "</table>\n",
       "</div>"
      ],
      "text/plain": [
       "            Unnamed: 1        Unnamed: 2 Unnamed: 3 Unnamed: 4 Unnamed: 5  \\\n",
       "1                Fecha       Descripción      Valor       Debe      Haber   \n",
       "2  2021-12-01 00:00:00        Compra pan       2.54        100        300   \n",
       "3  2021-12-02 00:00:00  Pizzas Telepizza         24        100        312   \n",
       "4  2021-12-03 00:00:00    Gasolina coche         54       1200        324   \n",
       "5  2021-12-04 00:00:00          Hipoteca        524       1101         15   \n",
       "6  2021-12-05 00:00:00          Pago IBI        234       1101        203   \n",
       "\n",
       "      Unnamed: 6       Unnamed: 7  Unnamed: 8 Unnamed: 9      Unnamed: 10  \n",
       "1        C. Debe         C. Haber         NaN    Search:           comida  \n",
       "2           Caja           Comida         NaN        NaN              NaN  \n",
       "3           Caja  Comidas, cenas…         NaN     Cuenta      Descripción  \n",
       "4   Tarjeta Visa     Gastos coche         NaN        300           Comida  \n",
       "5  Cuenta nómina         Hipoteca         NaN        312  Comidas, cenas…  \n",
       "6  Cuenta nómina   Impuestos casa         NaN        NaN              NaN  "
      ]
     },
     "execution_count": 8,
     "metadata": {},
     "output_type": "execute_result"
    }
   ],
   "source": [
    "asientos"
   ]
  },
  {
   "cell_type": "code",
   "execution_count": 9,
   "metadata": {},
   "outputs": [
    {
     "data": {
      "text/plain": [
       "Unnamed: 1           Fecha\n",
       "Unnamed: 2     Descripción\n",
       "Unnamed: 3           Valor\n",
       "Unnamed: 4            Debe\n",
       "Unnamed: 5           Haber\n",
       "Unnamed: 6         C. Debe\n",
       "Unnamed: 7        C. Haber\n",
       "Unnamed: 8             NaN\n",
       "Unnamed: 9         Search:\n",
       "Unnamed: 10         comida\n",
       "Name: 1, dtype: object"
      ]
     },
     "execution_count": 9,
     "metadata": {},
     "output_type": "execute_result"
    }
   ],
   "source": [
    "asientos.loc[1]"
   ]
  },
  {
   "cell_type": "code",
   "execution_count": 10,
   "metadata": {},
   "outputs": [],
   "source": [
    "asientos.columns = asientos.loc[1]"
   ]
  },
  {
   "cell_type": "code",
   "execution_count": 11,
   "metadata": {},
   "outputs": [
    {
     "data": {
      "text/html": [
       "<div>\n",
       "<style scoped>\n",
       "    .dataframe tbody tr th:only-of-type {\n",
       "        vertical-align: middle;\n",
       "    }\n",
       "\n",
       "    .dataframe tbody tr th {\n",
       "        vertical-align: top;\n",
       "    }\n",
       "\n",
       "    .dataframe thead th {\n",
       "        text-align: right;\n",
       "    }\n",
       "</style>\n",
       "<table border=\"1\" class=\"dataframe\">\n",
       "  <thead>\n",
       "    <tr style=\"text-align: right;\">\n",
       "      <th>1</th>\n",
       "      <th>Fecha</th>\n",
       "      <th>Descripción</th>\n",
       "      <th>Valor</th>\n",
       "      <th>Debe</th>\n",
       "      <th>Haber</th>\n",
       "      <th>C. Debe</th>\n",
       "      <th>C. Haber</th>\n",
       "      <th>NaN</th>\n",
       "      <th>Search:</th>\n",
       "      <th>comida</th>\n",
       "    </tr>\n",
       "  </thead>\n",
       "  <tbody>\n",
       "    <tr>\n",
       "      <th>1</th>\n",
       "      <td>Fecha</td>\n",
       "      <td>Descripción</td>\n",
       "      <td>Valor</td>\n",
       "      <td>Debe</td>\n",
       "      <td>Haber</td>\n",
       "      <td>C. Debe</td>\n",
       "      <td>C. Haber</td>\n",
       "      <td>NaN</td>\n",
       "      <td>Search:</td>\n",
       "      <td>comida</td>\n",
       "    </tr>\n",
       "    <tr>\n",
       "      <th>2</th>\n",
       "      <td>2021-12-01 00:00:00</td>\n",
       "      <td>Compra pan</td>\n",
       "      <td>2.54</td>\n",
       "      <td>100</td>\n",
       "      <td>300</td>\n",
       "      <td>Caja</td>\n",
       "      <td>Comida</td>\n",
       "      <td>NaN</td>\n",
       "      <td>NaN</td>\n",
       "      <td>NaN</td>\n",
       "    </tr>\n",
       "    <tr>\n",
       "      <th>3</th>\n",
       "      <td>2021-12-02 00:00:00</td>\n",
       "      <td>Pizzas Telepizza</td>\n",
       "      <td>24</td>\n",
       "      <td>100</td>\n",
       "      <td>312</td>\n",
       "      <td>Caja</td>\n",
       "      <td>Comidas, cenas…</td>\n",
       "      <td>NaN</td>\n",
       "      <td>Cuenta</td>\n",
       "      <td>Descripción</td>\n",
       "    </tr>\n",
       "    <tr>\n",
       "      <th>4</th>\n",
       "      <td>2021-12-03 00:00:00</td>\n",
       "      <td>Gasolina coche</td>\n",
       "      <td>54</td>\n",
       "      <td>1200</td>\n",
       "      <td>324</td>\n",
       "      <td>Tarjeta Visa</td>\n",
       "      <td>Gastos coche</td>\n",
       "      <td>NaN</td>\n",
       "      <td>300</td>\n",
       "      <td>Comida</td>\n",
       "    </tr>\n",
       "    <tr>\n",
       "      <th>5</th>\n",
       "      <td>2021-12-04 00:00:00</td>\n",
       "      <td>Hipoteca</td>\n",
       "      <td>524</td>\n",
       "      <td>1101</td>\n",
       "      <td>15</td>\n",
       "      <td>Cuenta nómina</td>\n",
       "      <td>Hipoteca</td>\n",
       "      <td>NaN</td>\n",
       "      <td>312</td>\n",
       "      <td>Comidas, cenas…</td>\n",
       "    </tr>\n",
       "    <tr>\n",
       "      <th>6</th>\n",
       "      <td>2021-12-05 00:00:00</td>\n",
       "      <td>Pago IBI</td>\n",
       "      <td>234</td>\n",
       "      <td>1101</td>\n",
       "      <td>203</td>\n",
       "      <td>Cuenta nómina</td>\n",
       "      <td>Impuestos casa</td>\n",
       "      <td>NaN</td>\n",
       "      <td>NaN</td>\n",
       "      <td>NaN</td>\n",
       "    </tr>\n",
       "  </tbody>\n",
       "</table>\n",
       "</div>"
      ],
      "text/plain": [
       "1                Fecha       Descripción  Valor  Debe  Haber        C. Debe  \\\n",
       "1                Fecha       Descripción  Valor  Debe  Haber        C. Debe   \n",
       "2  2021-12-01 00:00:00        Compra pan   2.54   100    300           Caja   \n",
       "3  2021-12-02 00:00:00  Pizzas Telepizza     24   100    312           Caja   \n",
       "4  2021-12-03 00:00:00    Gasolina coche     54  1200    324   Tarjeta Visa   \n",
       "5  2021-12-04 00:00:00          Hipoteca    524  1101     15  Cuenta nómina   \n",
       "6  2021-12-05 00:00:00          Pago IBI    234  1101    203  Cuenta nómina   \n",
       "\n",
       "1         C. Haber  NaN  Search:           comida  \n",
       "1         C. Haber  NaN  Search:           comida  \n",
       "2           Comida  NaN      NaN              NaN  \n",
       "3  Comidas, cenas…  NaN   Cuenta      Descripción  \n",
       "4     Gastos coche  NaN      300           Comida  \n",
       "5         Hipoteca  NaN      312  Comidas, cenas…  \n",
       "6   Impuestos casa  NaN      NaN              NaN  "
      ]
     },
     "execution_count": 11,
     "metadata": {},
     "output_type": "execute_result"
    }
   ],
   "source": [
    "asientos"
   ]
  },
  {
   "cell_type": "code",
   "execution_count": 12,
   "metadata": {},
   "outputs": [],
   "source": [
    "asientos.drop(labels=1, inplace=True)"
   ]
  },
  {
   "cell_type": "code",
   "execution_count": 13,
   "metadata": {},
   "outputs": [
    {
     "data": {
      "text/html": [
       "<div>\n",
       "<style scoped>\n",
       "    .dataframe tbody tr th:only-of-type {\n",
       "        vertical-align: middle;\n",
       "    }\n",
       "\n",
       "    .dataframe tbody tr th {\n",
       "        vertical-align: top;\n",
       "    }\n",
       "\n",
       "    .dataframe thead th {\n",
       "        text-align: right;\n",
       "    }\n",
       "</style>\n",
       "<table border=\"1\" class=\"dataframe\">\n",
       "  <thead>\n",
       "    <tr style=\"text-align: right;\">\n",
       "      <th>1</th>\n",
       "      <th>Fecha</th>\n",
       "      <th>Descripción</th>\n",
       "      <th>Valor</th>\n",
       "      <th>Debe</th>\n",
       "      <th>Haber</th>\n",
       "      <th>C. Debe</th>\n",
       "      <th>C. Haber</th>\n",
       "      <th>NaN</th>\n",
       "      <th>Search:</th>\n",
       "      <th>comida</th>\n",
       "    </tr>\n",
       "  </thead>\n",
       "  <tbody>\n",
       "    <tr>\n",
       "      <th>2</th>\n",
       "      <td>2021-12-01 00:00:00</td>\n",
       "      <td>Compra pan</td>\n",
       "      <td>2.54</td>\n",
       "      <td>100</td>\n",
       "      <td>300</td>\n",
       "      <td>Caja</td>\n",
       "      <td>Comida</td>\n",
       "      <td>NaN</td>\n",
       "      <td>NaN</td>\n",
       "      <td>NaN</td>\n",
       "    </tr>\n",
       "    <tr>\n",
       "      <th>3</th>\n",
       "      <td>2021-12-02 00:00:00</td>\n",
       "      <td>Pizzas Telepizza</td>\n",
       "      <td>24</td>\n",
       "      <td>100</td>\n",
       "      <td>312</td>\n",
       "      <td>Caja</td>\n",
       "      <td>Comidas, cenas…</td>\n",
       "      <td>NaN</td>\n",
       "      <td>Cuenta</td>\n",
       "      <td>Descripción</td>\n",
       "    </tr>\n",
       "    <tr>\n",
       "      <th>4</th>\n",
       "      <td>2021-12-03 00:00:00</td>\n",
       "      <td>Gasolina coche</td>\n",
       "      <td>54</td>\n",
       "      <td>1200</td>\n",
       "      <td>324</td>\n",
       "      <td>Tarjeta Visa</td>\n",
       "      <td>Gastos coche</td>\n",
       "      <td>NaN</td>\n",
       "      <td>300</td>\n",
       "      <td>Comida</td>\n",
       "    </tr>\n",
       "    <tr>\n",
       "      <th>5</th>\n",
       "      <td>2021-12-04 00:00:00</td>\n",
       "      <td>Hipoteca</td>\n",
       "      <td>524</td>\n",
       "      <td>1101</td>\n",
       "      <td>15</td>\n",
       "      <td>Cuenta nómina</td>\n",
       "      <td>Hipoteca</td>\n",
       "      <td>NaN</td>\n",
       "      <td>312</td>\n",
       "      <td>Comidas, cenas…</td>\n",
       "    </tr>\n",
       "    <tr>\n",
       "      <th>6</th>\n",
       "      <td>2021-12-05 00:00:00</td>\n",
       "      <td>Pago IBI</td>\n",
       "      <td>234</td>\n",
       "      <td>1101</td>\n",
       "      <td>203</td>\n",
       "      <td>Cuenta nómina</td>\n",
       "      <td>Impuestos casa</td>\n",
       "      <td>NaN</td>\n",
       "      <td>NaN</td>\n",
       "      <td>NaN</td>\n",
       "    </tr>\n",
       "  </tbody>\n",
       "</table>\n",
       "</div>"
      ],
      "text/plain": [
       "1                Fecha       Descripción Valor  Debe Haber        C. Debe  \\\n",
       "2  2021-12-01 00:00:00        Compra pan  2.54   100   300           Caja   \n",
       "3  2021-12-02 00:00:00  Pizzas Telepizza    24   100   312           Caja   \n",
       "4  2021-12-03 00:00:00    Gasolina coche    54  1200   324   Tarjeta Visa   \n",
       "5  2021-12-04 00:00:00          Hipoteca   524  1101    15  Cuenta nómina   \n",
       "6  2021-12-05 00:00:00          Pago IBI   234  1101   203  Cuenta nómina   \n",
       "\n",
       "1         C. Haber  NaN Search:           comida  \n",
       "2           Comida  NaN     NaN              NaN  \n",
       "3  Comidas, cenas…  NaN  Cuenta      Descripción  \n",
       "4     Gastos coche  NaN     300           Comida  \n",
       "5         Hipoteca  NaN     312  Comidas, cenas…  \n",
       "6   Impuestos casa  NaN     NaN              NaN  "
      ]
     },
     "execution_count": 13,
     "metadata": {},
     "output_type": "execute_result"
    }
   ],
   "source": [
    "asientos"
   ]
  },
  {
   "cell_type": "code",
   "execution_count": 14,
   "metadata": {},
   "outputs": [],
   "source": [
    "asientos['Fecha'] = pd.to_datetime(asientos.Fecha)"
   ]
  },
  {
   "cell_type": "code",
   "execution_count": 15,
   "metadata": {},
   "outputs": [
    {
     "name": "stdout",
     "output_type": "stream",
     "text": [
      "<class 'pandas.core.frame.DataFrame'>\n",
      "Int64Index: 5 entries, 2 to 6\n",
      "Data columns (total 10 columns):\n",
      " #   Column       Non-Null Count  Dtype         \n",
      "---  ------       --------------  -----         \n",
      " 0   Fecha        5 non-null      datetime64[ns]\n",
      " 1   Descripción  5 non-null      object        \n",
      " 2   Valor        5 non-null      object        \n",
      " 3   Debe         5 non-null      object        \n",
      " 4   Haber        5 non-null      object        \n",
      " 5   C. Debe      5 non-null      object        \n",
      " 6   C. Haber     5 non-null      object        \n",
      " 7   nan          0 non-null      float64       \n",
      " 8   Search:      3 non-null      object        \n",
      " 9   comida       3 non-null      object        \n",
      "dtypes: datetime64[ns](1), float64(1), object(8)\n",
      "memory usage: 440.0+ bytes\n"
     ]
    }
   ],
   "source": [
    "asientos.info()"
   ]
  },
  {
   "cell_type": "code",
   "execution_count": 16,
   "metadata": {},
   "outputs": [
    {
     "data": {
      "text/html": [
       "<div>\n",
       "<style scoped>\n",
       "    .dataframe tbody tr th:only-of-type {\n",
       "        vertical-align: middle;\n",
       "    }\n",
       "\n",
       "    .dataframe tbody tr th {\n",
       "        vertical-align: top;\n",
       "    }\n",
       "\n",
       "    .dataframe thead th {\n",
       "        text-align: right;\n",
       "    }\n",
       "</style>\n",
       "<table border=\"1\" class=\"dataframe\">\n",
       "  <thead>\n",
       "    <tr style=\"text-align: right;\">\n",
       "      <th>1</th>\n",
       "      <th>Fecha</th>\n",
       "      <th>Descripción</th>\n",
       "      <th>Valor</th>\n",
       "      <th>Debe</th>\n",
       "      <th>Haber</th>\n",
       "      <th>C. Debe</th>\n",
       "      <th>C. Haber</th>\n",
       "      <th>NaN</th>\n",
       "      <th>Search:</th>\n",
       "      <th>comida</th>\n",
       "    </tr>\n",
       "  </thead>\n",
       "  <tbody>\n",
       "    <tr>\n",
       "      <th>2</th>\n",
       "      <td>2021-12-01</td>\n",
       "      <td>Compra pan</td>\n",
       "      <td>2.54</td>\n",
       "      <td>100</td>\n",
       "      <td>300</td>\n",
       "      <td>Caja</td>\n",
       "      <td>Comida</td>\n",
       "      <td>NaN</td>\n",
       "      <td>NaN</td>\n",
       "      <td>NaN</td>\n",
       "    </tr>\n",
       "    <tr>\n",
       "      <th>3</th>\n",
       "      <td>2021-12-02</td>\n",
       "      <td>Pizzas Telepizza</td>\n",
       "      <td>24</td>\n",
       "      <td>100</td>\n",
       "      <td>312</td>\n",
       "      <td>Caja</td>\n",
       "      <td>Comidas, cenas…</td>\n",
       "      <td>NaN</td>\n",
       "      <td>Cuenta</td>\n",
       "      <td>Descripción</td>\n",
       "    </tr>\n",
       "    <tr>\n",
       "      <th>4</th>\n",
       "      <td>2021-12-03</td>\n",
       "      <td>Gasolina coche</td>\n",
       "      <td>54</td>\n",
       "      <td>1200</td>\n",
       "      <td>324</td>\n",
       "      <td>Tarjeta Visa</td>\n",
       "      <td>Gastos coche</td>\n",
       "      <td>NaN</td>\n",
       "      <td>300</td>\n",
       "      <td>Comida</td>\n",
       "    </tr>\n",
       "    <tr>\n",
       "      <th>5</th>\n",
       "      <td>2021-12-04</td>\n",
       "      <td>Hipoteca</td>\n",
       "      <td>524</td>\n",
       "      <td>1101</td>\n",
       "      <td>15</td>\n",
       "      <td>Cuenta nómina</td>\n",
       "      <td>Hipoteca</td>\n",
       "      <td>NaN</td>\n",
       "      <td>312</td>\n",
       "      <td>Comidas, cenas…</td>\n",
       "    </tr>\n",
       "    <tr>\n",
       "      <th>6</th>\n",
       "      <td>2021-12-05</td>\n",
       "      <td>Pago IBI</td>\n",
       "      <td>234</td>\n",
       "      <td>1101</td>\n",
       "      <td>203</td>\n",
       "      <td>Cuenta nómina</td>\n",
       "      <td>Impuestos casa</td>\n",
       "      <td>NaN</td>\n",
       "      <td>NaN</td>\n",
       "      <td>NaN</td>\n",
       "    </tr>\n",
       "  </tbody>\n",
       "</table>\n",
       "</div>"
      ],
      "text/plain": [
       "1      Fecha       Descripción Valor  Debe Haber        C. Debe  \\\n",
       "2 2021-12-01        Compra pan  2.54   100   300           Caja   \n",
       "3 2021-12-02  Pizzas Telepizza    24   100   312           Caja   \n",
       "4 2021-12-03    Gasolina coche    54  1200   324   Tarjeta Visa   \n",
       "5 2021-12-04          Hipoteca   524  1101    15  Cuenta nómina   \n",
       "6 2021-12-05          Pago IBI   234  1101   203  Cuenta nómina   \n",
       "\n",
       "1         C. Haber  NaN Search:           comida  \n",
       "2           Comida  NaN     NaN              NaN  \n",
       "3  Comidas, cenas…  NaN  Cuenta      Descripción  \n",
       "4     Gastos coche  NaN     300           Comida  \n",
       "5         Hipoteca  NaN     312  Comidas, cenas…  \n",
       "6   Impuestos casa  NaN     NaN              NaN  "
      ]
     },
     "execution_count": 16,
     "metadata": {},
     "output_type": "execute_result"
    }
   ],
   "source": [
    "asientos"
   ]
  },
  {
   "cell_type": "code",
   "execution_count": 17,
   "metadata": {},
   "outputs": [],
   "source": [
    "asientos['Valor'] = asientos['Valor'].astype(int)"
   ]
  },
  {
   "cell_type": "markdown",
   "metadata": {},
   "source": [
    "# Importing and transforming\n",
    "\n",
    "Ok, cleaning up is possible, but too complex. Now I'll use the parameters of read_excel to limit what I read, and get exactly the table that I want.\n",
    "\n",
    "First I load the simple sheet."
   ]
  },
  {
   "cell_type": "code",
   "execution_count": 18,
   "metadata": {},
   "outputs": [
    {
     "data": {
      "text/html": [
       "<div>\n",
       "<style scoped>\n",
       "    .dataframe tbody tr th:only-of-type {\n",
       "        vertical-align: middle;\n",
       "    }\n",
       "\n",
       "    .dataframe tbody tr th {\n",
       "        vertical-align: top;\n",
       "    }\n",
       "\n",
       "    .dataframe thead th {\n",
       "        text-align: right;\n",
       "    }\n",
       "</style>\n",
       "<table border=\"1\" class=\"dataframe\">\n",
       "  <thead>\n",
       "    <tr style=\"text-align: right;\">\n",
       "      <th></th>\n",
       "      <th>Fecha</th>\n",
       "      <th>Descripción</th>\n",
       "      <th>Valor</th>\n",
       "      <th>Debe</th>\n",
       "      <th>Haber</th>\n",
       "    </tr>\n",
       "  </thead>\n",
       "  <tbody>\n",
       "    <tr>\n",
       "      <th>0</th>\n",
       "      <td>2021-12-01</td>\n",
       "      <td>Compra pan</td>\n",
       "      <td>2.54</td>\n",
       "      <td>100</td>\n",
       "      <td>300</td>\n",
       "    </tr>\n",
       "    <tr>\n",
       "      <th>1</th>\n",
       "      <td>2021-12-02</td>\n",
       "      <td>Pizzas Telepizza</td>\n",
       "      <td>24.00</td>\n",
       "      <td>100</td>\n",
       "      <td>312</td>\n",
       "    </tr>\n",
       "    <tr>\n",
       "      <th>2</th>\n",
       "      <td>2021-12-03</td>\n",
       "      <td>Gasolina coche</td>\n",
       "      <td>54.00</td>\n",
       "      <td>1200</td>\n",
       "      <td>324</td>\n",
       "    </tr>\n",
       "    <tr>\n",
       "      <th>3</th>\n",
       "      <td>2021-12-04</td>\n",
       "      <td>Hipoteca</td>\n",
       "      <td>524.00</td>\n",
       "      <td>1101</td>\n",
       "      <td>15</td>\n",
       "    </tr>\n",
       "    <tr>\n",
       "      <th>4</th>\n",
       "      <td>2021-12-05</td>\n",
       "      <td>Pago IBI</td>\n",
       "      <td>234.00</td>\n",
       "      <td>1101</td>\n",
       "      <td>203</td>\n",
       "    </tr>\n",
       "  </tbody>\n",
       "</table>\n",
       "</div>"
      ],
      "text/plain": [
       "       Fecha       Descripción   Valor  Debe  Haber\n",
       "0 2021-12-01        Compra pan    2.54   100    300\n",
       "1 2021-12-02  Pizzas Telepizza   24.00   100    312\n",
       "2 2021-12-03    Gasolina coche   54.00  1200    324\n",
       "3 2021-12-04          Hipoteca  524.00  1101     15\n",
       "4 2021-12-05          Pago IBI  234.00  1101    203"
      ]
     },
     "execution_count": 18,
     "metadata": {},
     "output_type": "execute_result"
    }
   ],
   "source": [
    "simple = pd.read_excel('plantilla.xlsx', sheet_name='simple', usecols='b:f', parse_dates=[1], header=2)\n",
    "simple"
   ]
  },
  {
   "cell_type": "code",
   "execution_count": 19,
   "metadata": {},
   "outputs": [
    {
     "name": "stdout",
     "output_type": "stream",
     "text": [
      "<class 'pandas.core.frame.DataFrame'>\n",
      "RangeIndex: 5 entries, 0 to 4\n",
      "Data columns (total 5 columns):\n",
      " #   Column       Non-Null Count  Dtype         \n",
      "---  ------       --------------  -----         \n",
      " 0   Fecha        5 non-null      datetime64[ns]\n",
      " 1   Descripción  5 non-null      object        \n",
      " 2   Valor        5 non-null      float64       \n",
      " 3   Debe         5 non-null      int64         \n",
      " 4   Haber        5 non-null      int64         \n",
      "dtypes: datetime64[ns](1), float64(1), int64(2), object(1)\n",
      "memory usage: 328.0+ bytes\n"
     ]
    }
   ],
   "source": [
    "simple.info()"
   ]
  },
  {
   "cell_type": "markdown",
   "metadata": {},
   "source": [
    "Now I load the compleja sheet, and after I will merge the two into the compleja format, so it can be easily uploaded to the database."
   ]
  },
  {
   "cell_type": "code",
   "execution_count": 20,
   "metadata": {},
   "outputs": [
    {
     "data": {
      "text/html": [
       "<div>\n",
       "<style scoped>\n",
       "    .dataframe tbody tr th:only-of-type {\n",
       "        vertical-align: middle;\n",
       "    }\n",
       "\n",
       "    .dataframe tbody tr th {\n",
       "        vertical-align: top;\n",
       "    }\n",
       "\n",
       "    .dataframe thead th {\n",
       "        text-align: right;\n",
       "    }\n",
       "</style>\n",
       "<table border=\"1\" class=\"dataframe\">\n",
       "  <thead>\n",
       "    <tr style=\"text-align: right;\">\n",
       "      <th></th>\n",
       "      <th>id</th>\n",
       "      <th>Fecha</th>\n",
       "      <th>Descripción</th>\n",
       "      <th>Debe</th>\n",
       "      <th>Haber</th>\n",
       "      <th>Cuenta</th>\n",
       "    </tr>\n",
       "  </thead>\n",
       "  <tbody>\n",
       "    <tr>\n",
       "      <th>0</th>\n",
       "      <td>1</td>\n",
       "      <td>2021-12-03</td>\n",
       "      <td>Cena en el restaurante</td>\n",
       "      <td>50</td>\n",
       "      <td>0</td>\n",
       "      <td>1200</td>\n",
       "    </tr>\n",
       "    <tr>\n",
       "      <th>1</th>\n",
       "      <td>1</td>\n",
       "      <td>2021-12-03</td>\n",
       "      <td>Cena en el restaurante propina</td>\n",
       "      <td>3</td>\n",
       "      <td>0</td>\n",
       "      <td>100</td>\n",
       "    </tr>\n",
       "    <tr>\n",
       "      <th>2</th>\n",
       "      <td>1</td>\n",
       "      <td>2021-12-03</td>\n",
       "      <td>Cena en el restaurante</td>\n",
       "      <td>0</td>\n",
       "      <td>53</td>\n",
       "      <td>312</td>\n",
       "    </tr>\n",
       "    <tr>\n",
       "      <th>3</th>\n",
       "      <td>2</td>\n",
       "      <td>2021-12-05</td>\n",
       "      <td>Factura EDP - gas y electricidad</td>\n",
       "      <td>150</td>\n",
       "      <td>0</td>\n",
       "      <td>1101</td>\n",
       "    </tr>\n",
       "    <tr>\n",
       "      <th>4</th>\n",
       "      <td>2</td>\n",
       "      <td>2021-12-05</td>\n",
       "      <td>Factura EDP - gas</td>\n",
       "      <td>0</td>\n",
       "      <td>120</td>\n",
       "      <td>2001</td>\n",
       "    </tr>\n",
       "    <tr>\n",
       "      <th>5</th>\n",
       "      <td>2</td>\n",
       "      <td>2021-12-05</td>\n",
       "      <td>Factura EDP - electricidad</td>\n",
       "      <td>0</td>\n",
       "      <td>30</td>\n",
       "      <td>2000</td>\n",
       "    </tr>\n",
       "  </tbody>\n",
       "</table>\n",
       "</div>"
      ],
      "text/plain": [
       "   id      Fecha                       Descripción  Debe  Haber  Cuenta\n",
       "0   1 2021-12-03            Cena en el restaurante    50      0    1200\n",
       "1   1 2021-12-03    Cena en el restaurante propina     3      0     100\n",
       "2   1 2021-12-03            Cena en el restaurante     0     53     312\n",
       "3   2 2021-12-05  Factura EDP - gas y electricidad   150      0    1101\n",
       "4   2 2021-12-05                 Factura EDP - gas     0    120    2001\n",
       "5   2 2021-12-05        Factura EDP - electricidad     0     30    2000"
      ]
     },
     "execution_count": 20,
     "metadata": {},
     "output_type": "execute_result"
    }
   ],
   "source": [
    "compleja = pd.read_excel('plantilla.xlsx', sheet_name='compleja', usecols='b:g', parse_dates=[2], header=2)\n",
    "compleja"
   ]
  },
  {
   "cell_type": "code",
   "execution_count": 21,
   "metadata": {},
   "outputs": [
    {
     "name": "stdout",
     "output_type": "stream",
     "text": [
      "2021-12-03 00:00:00 Cena en el restaurante 50 0 1200\n",
      "2021-12-03 00:00:00 Cena en el restaurante propina 3 0 100\n",
      "2021-12-03 00:00:00 Cena en el restaurante 0 53 312\n",
      "2021-12-05 00:00:00 Factura EDP - gas y electricidad 150 0 1101\n",
      "2021-12-05 00:00:00 Factura EDP - gas 0 120 2001\n",
      "2021-12-05 00:00:00 Factura EDP - electricidad 0 30 2000\n"
     ]
    }
   ],
   "source": [
    "for n in compleja.index:\n",
    "    print(compleja.loc[n]['Fecha'], compleja.loc[n]['Descripción'], compleja.loc[n]['Debe'], compleja.loc[n]['Haber'], compleja.loc[n]['Cuenta'])"
   ]
  },
  {
   "cell_type": "code",
   "execution_count": 22,
   "metadata": {},
   "outputs": [
    {
     "data": {
      "text/plain": [
       "numpy.int64"
      ]
     },
     "execution_count": 22,
     "metadata": {},
     "output_type": "execute_result"
    }
   ],
   "source": [
    "type(compleja.loc[0]['Debe'])"
   ]
  },
  {
   "cell_type": "code",
   "execution_count": 23,
   "metadata": {
    "scrolled": true
   },
   "outputs": [
    {
     "name": "stdout",
     "output_type": "stream",
     "text": [
      "<class 'pandas.core.frame.DataFrame'>\n",
      "RangeIndex: 6 entries, 0 to 5\n",
      "Data columns (total 6 columns):\n",
      " #   Column       Non-Null Count  Dtype         \n",
      "---  ------       --------------  -----         \n",
      " 0   id           6 non-null      int64         \n",
      " 1   Fecha        6 non-null      datetime64[ns]\n",
      " 2   Descripción  6 non-null      object        \n",
      " 3   Debe         6 non-null      int64         \n",
      " 4   Haber        6 non-null      int64         \n",
      " 5   Cuenta       6 non-null      int64         \n",
      "dtypes: datetime64[ns](1), int64(4), object(1)\n",
      "memory usage: 416.0+ bytes\n"
     ]
    }
   ],
   "source": [
    "compleja.info()"
   ]
  },
  {
   "cell_type": "markdown",
   "metadata": {},
   "source": [
    "Here is the transformation from simple to compleja, adding the lines from simple into the compleja table:"
   ]
  },
  {
   "cell_type": "code",
   "execution_count": 24,
   "metadata": {
    "scrolled": true
   },
   "outputs": [
    {
     "data": {
      "text/html": [
       "<div>\n",
       "<style scoped>\n",
       "    .dataframe tbody tr th:only-of-type {\n",
       "        vertical-align: middle;\n",
       "    }\n",
       "\n",
       "    .dataframe tbody tr th {\n",
       "        vertical-align: top;\n",
       "    }\n",
       "\n",
       "    .dataframe thead th {\n",
       "        text-align: right;\n",
       "    }\n",
       "</style>\n",
       "<table border=\"1\" class=\"dataframe\">\n",
       "  <thead>\n",
       "    <tr style=\"text-align: right;\">\n",
       "      <th></th>\n",
       "      <th>id</th>\n",
       "      <th>Fecha</th>\n",
       "      <th>Descripción</th>\n",
       "      <th>Debe</th>\n",
       "      <th>Haber</th>\n",
       "      <th>Cuenta</th>\n",
       "    </tr>\n",
       "  </thead>\n",
       "  <tbody>\n",
       "    <tr>\n",
       "      <th>0</th>\n",
       "      <td>1.0</td>\n",
       "      <td>2021-12-03</td>\n",
       "      <td>Cena en el restaurante</td>\n",
       "      <td>50.00</td>\n",
       "      <td>0.00</td>\n",
       "      <td>1200.0</td>\n",
       "    </tr>\n",
       "    <tr>\n",
       "      <th>1</th>\n",
       "      <td>1.0</td>\n",
       "      <td>2021-12-03</td>\n",
       "      <td>Cena en el restaurante propina</td>\n",
       "      <td>3.00</td>\n",
       "      <td>0.00</td>\n",
       "      <td>100.0</td>\n",
       "    </tr>\n",
       "    <tr>\n",
       "      <th>2</th>\n",
       "      <td>1.0</td>\n",
       "      <td>2021-12-03</td>\n",
       "      <td>Cena en el restaurante</td>\n",
       "      <td>0.00</td>\n",
       "      <td>53.00</td>\n",
       "      <td>312.0</td>\n",
       "    </tr>\n",
       "    <tr>\n",
       "      <th>3</th>\n",
       "      <td>2.0</td>\n",
       "      <td>2021-12-05</td>\n",
       "      <td>Factura EDP - gas y electricidad</td>\n",
       "      <td>150.00</td>\n",
       "      <td>0.00</td>\n",
       "      <td>1101.0</td>\n",
       "    </tr>\n",
       "    <tr>\n",
       "      <th>4</th>\n",
       "      <td>2.0</td>\n",
       "      <td>2021-12-05</td>\n",
       "      <td>Factura EDP - gas</td>\n",
       "      <td>0.00</td>\n",
       "      <td>120.00</td>\n",
       "      <td>2001.0</td>\n",
       "    </tr>\n",
       "    <tr>\n",
       "      <th>5</th>\n",
       "      <td>2.0</td>\n",
       "      <td>2021-12-05</td>\n",
       "      <td>Factura EDP - electricidad</td>\n",
       "      <td>0.00</td>\n",
       "      <td>30.00</td>\n",
       "      <td>2000.0</td>\n",
       "    </tr>\n",
       "    <tr>\n",
       "      <th>6</th>\n",
       "      <td>3.0</td>\n",
       "      <td>2021-12-01</td>\n",
       "      <td>Compra pan</td>\n",
       "      <td>2.54</td>\n",
       "      <td>0.00</td>\n",
       "      <td>100.0</td>\n",
       "    </tr>\n",
       "    <tr>\n",
       "      <th>7</th>\n",
       "      <td>3.0</td>\n",
       "      <td>2021-12-01</td>\n",
       "      <td>Compra pan</td>\n",
       "      <td>0.00</td>\n",
       "      <td>2.54</td>\n",
       "      <td>300.0</td>\n",
       "    </tr>\n",
       "    <tr>\n",
       "      <th>8</th>\n",
       "      <td>4.0</td>\n",
       "      <td>2021-12-02</td>\n",
       "      <td>Pizzas Telepizza</td>\n",
       "      <td>24.00</td>\n",
       "      <td>0.00</td>\n",
       "      <td>100.0</td>\n",
       "    </tr>\n",
       "    <tr>\n",
       "      <th>9</th>\n",
       "      <td>4.0</td>\n",
       "      <td>2021-12-02</td>\n",
       "      <td>Pizzas Telepizza</td>\n",
       "      <td>0.00</td>\n",
       "      <td>24.00</td>\n",
       "      <td>312.0</td>\n",
       "    </tr>\n",
       "    <tr>\n",
       "      <th>10</th>\n",
       "      <td>5.0</td>\n",
       "      <td>2021-12-03</td>\n",
       "      <td>Gasolina coche</td>\n",
       "      <td>54.00</td>\n",
       "      <td>0.00</td>\n",
       "      <td>1200.0</td>\n",
       "    </tr>\n",
       "    <tr>\n",
       "      <th>11</th>\n",
       "      <td>5.0</td>\n",
       "      <td>2021-12-03</td>\n",
       "      <td>Gasolina coche</td>\n",
       "      <td>0.00</td>\n",
       "      <td>54.00</td>\n",
       "      <td>324.0</td>\n",
       "    </tr>\n",
       "    <tr>\n",
       "      <th>12</th>\n",
       "      <td>6.0</td>\n",
       "      <td>2021-12-04</td>\n",
       "      <td>Hipoteca</td>\n",
       "      <td>524.00</td>\n",
       "      <td>0.00</td>\n",
       "      <td>1101.0</td>\n",
       "    </tr>\n",
       "    <tr>\n",
       "      <th>13</th>\n",
       "      <td>6.0</td>\n",
       "      <td>2021-12-04</td>\n",
       "      <td>Hipoteca</td>\n",
       "      <td>0.00</td>\n",
       "      <td>524.00</td>\n",
       "      <td>15.0</td>\n",
       "    </tr>\n",
       "    <tr>\n",
       "      <th>14</th>\n",
       "      <td>7.0</td>\n",
       "      <td>2021-12-05</td>\n",
       "      <td>Pago IBI</td>\n",
       "      <td>234.00</td>\n",
       "      <td>0.00</td>\n",
       "      <td>1101.0</td>\n",
       "    </tr>\n",
       "    <tr>\n",
       "      <th>15</th>\n",
       "      <td>7.0</td>\n",
       "      <td>2021-12-05</td>\n",
       "      <td>Pago IBI</td>\n",
       "      <td>0.00</td>\n",
       "      <td>234.00</td>\n",
       "      <td>203.0</td>\n",
       "    </tr>\n",
       "  </tbody>\n",
       "</table>\n",
       "</div>"
      ],
      "text/plain": [
       "     id      Fecha                       Descripción    Debe   Haber  Cuenta\n",
       "0   1.0 2021-12-03            Cena en el restaurante   50.00    0.00  1200.0\n",
       "1   1.0 2021-12-03    Cena en el restaurante propina    3.00    0.00   100.0\n",
       "2   1.0 2021-12-03            Cena en el restaurante    0.00   53.00   312.0\n",
       "3   2.0 2021-12-05  Factura EDP - gas y electricidad  150.00    0.00  1101.0\n",
       "4   2.0 2021-12-05                 Factura EDP - gas    0.00  120.00  2001.0\n",
       "5   2.0 2021-12-05        Factura EDP - electricidad    0.00   30.00  2000.0\n",
       "6   3.0 2021-12-01                        Compra pan    2.54    0.00   100.0\n",
       "7   3.0 2021-12-01                        Compra pan    0.00    2.54   300.0\n",
       "8   4.0 2021-12-02                  Pizzas Telepizza   24.00    0.00   100.0\n",
       "9   4.0 2021-12-02                  Pizzas Telepizza    0.00   24.00   312.0\n",
       "10  5.0 2021-12-03                    Gasolina coche   54.00    0.00  1200.0\n",
       "11  5.0 2021-12-03                    Gasolina coche    0.00   54.00   324.0\n",
       "12  6.0 2021-12-04                          Hipoteca  524.00    0.00  1101.0\n",
       "13  6.0 2021-12-04                          Hipoteca    0.00  524.00    15.0\n",
       "14  7.0 2021-12-05                          Pago IBI  234.00    0.00  1101.0\n",
       "15  7.0 2021-12-05                          Pago IBI    0.00  234.00   203.0"
      ]
     },
     "execution_count": 24,
     "metadata": {},
     "output_type": "execute_result"
    }
   ],
   "source": [
    "last = len(compleja)\n",
    "asiento = compleja.id.max()\n",
    "for line in range(len(simple)):\n",
    "    compleja.loc[last + 2*line, 'id'] = line + asiento + 1\n",
    "    compleja.loc[last + 2*line+1, 'id'] = line + asiento + 1\n",
    "    compleja.loc[last + 2*line, 'Fecha'] = simple.loc[line, 'Fecha']\n",
    "    compleja.loc[last + 2*line+1, 'Fecha'] = simple.loc[line, 'Fecha']\n",
    "    compleja.loc[last + 2*line, 'Descripción'] = simple.loc[line, 'Descripción']\n",
    "    compleja.loc[last + 2*line+1, 'Descripción'] = simple.loc[line, 'Descripción']\n",
    "    compleja.loc[last + 2*line, 'Debe'] = simple.loc[line, 'Valor']\n",
    "    compleja.loc[last + 2*line, 'Haber'] = 0\n",
    "    compleja.loc[last + 2*line, 'Cuenta'] = simple.loc[line, 'Debe']\n",
    "    compleja.loc[last + 2*line+1, 'Debe'] = 0\n",
    "    compleja.loc[last + 2*line+1, 'Haber'] = simple.loc[line, 'Valor']\n",
    "    compleja.loc[last + 2*line+1, 'Cuenta'] = simple.loc[line, 'Haber']\n",
    "compleja"
   ]
  },
  {
   "cell_type": "code",
   "execution_count": 25,
   "metadata": {},
   "outputs": [
    {
     "name": "stdout",
     "output_type": "stream",
     "text": [
      "<class 'pandas.core.frame.DataFrame'>\n",
      "Int64Index: 16 entries, 0 to 15\n",
      "Data columns (total 6 columns):\n",
      " #   Column       Non-Null Count  Dtype         \n",
      "---  ------       --------------  -----         \n",
      " 0   id           16 non-null     float64       \n",
      " 1   Fecha        16 non-null     datetime64[ns]\n",
      " 2   Descripción  16 non-null     object        \n",
      " 3   Debe         16 non-null     float64       \n",
      " 4   Haber        16 non-null     float64       \n",
      " 5   Cuenta       16 non-null     float64       \n",
      "dtypes: datetime64[ns](1), float64(4), object(1)\n",
      "memory usage: 1.4+ KB\n"
     ]
    }
   ],
   "source": [
    "compleja.info() # validate the types are correct"
   ]
  },
  {
   "cell_type": "markdown",
   "metadata": {},
   "source": [
    "Finally, in order to update the database, I will only need the maximum value of \"asiento\", to be added to the id column here. For example, if the maximum value of asiento is 25, then I will just have all ids starting at 26."
   ]
  },
  {
   "cell_type": "code",
   "execution_count": 26,
   "metadata": {},
   "outputs": [
    {
     "data": {
      "text/html": [
       "<div>\n",
       "<style scoped>\n",
       "    .dataframe tbody tr th:only-of-type {\n",
       "        vertical-align: middle;\n",
       "    }\n",
       "\n",
       "    .dataframe tbody tr th {\n",
       "        vertical-align: top;\n",
       "    }\n",
       "\n",
       "    .dataframe thead th {\n",
       "        text-align: right;\n",
       "    }\n",
       "</style>\n",
       "<table border=\"1\" class=\"dataframe\">\n",
       "  <thead>\n",
       "    <tr style=\"text-align: right;\">\n",
       "      <th></th>\n",
       "      <th>id</th>\n",
       "      <th>Fecha</th>\n",
       "      <th>Descripción</th>\n",
       "      <th>Debe</th>\n",
       "      <th>Haber</th>\n",
       "      <th>Cuenta</th>\n",
       "    </tr>\n",
       "  </thead>\n",
       "  <tbody>\n",
       "    <tr>\n",
       "      <th>0</th>\n",
       "      <td>26.0</td>\n",
       "      <td>2021-12-03</td>\n",
       "      <td>Cena en el restaurante</td>\n",
       "      <td>50.00</td>\n",
       "      <td>0.00</td>\n",
       "      <td>1200.0</td>\n",
       "    </tr>\n",
       "    <tr>\n",
       "      <th>1</th>\n",
       "      <td>26.0</td>\n",
       "      <td>2021-12-03</td>\n",
       "      <td>Cena en el restaurante propina</td>\n",
       "      <td>3.00</td>\n",
       "      <td>0.00</td>\n",
       "      <td>100.0</td>\n",
       "    </tr>\n",
       "    <tr>\n",
       "      <th>2</th>\n",
       "      <td>26.0</td>\n",
       "      <td>2021-12-03</td>\n",
       "      <td>Cena en el restaurante</td>\n",
       "      <td>0.00</td>\n",
       "      <td>53.00</td>\n",
       "      <td>312.0</td>\n",
       "    </tr>\n",
       "    <tr>\n",
       "      <th>3</th>\n",
       "      <td>27.0</td>\n",
       "      <td>2021-12-05</td>\n",
       "      <td>Factura EDP - gas y electricidad</td>\n",
       "      <td>150.00</td>\n",
       "      <td>0.00</td>\n",
       "      <td>1101.0</td>\n",
       "    </tr>\n",
       "    <tr>\n",
       "      <th>4</th>\n",
       "      <td>27.0</td>\n",
       "      <td>2021-12-05</td>\n",
       "      <td>Factura EDP - gas</td>\n",
       "      <td>0.00</td>\n",
       "      <td>120.00</td>\n",
       "      <td>2001.0</td>\n",
       "    </tr>\n",
       "    <tr>\n",
       "      <th>5</th>\n",
       "      <td>27.0</td>\n",
       "      <td>2021-12-05</td>\n",
       "      <td>Factura EDP - electricidad</td>\n",
       "      <td>0.00</td>\n",
       "      <td>30.00</td>\n",
       "      <td>2000.0</td>\n",
       "    </tr>\n",
       "    <tr>\n",
       "      <th>6</th>\n",
       "      <td>28.0</td>\n",
       "      <td>2021-12-01</td>\n",
       "      <td>Compra pan</td>\n",
       "      <td>2.54</td>\n",
       "      <td>0.00</td>\n",
       "      <td>100.0</td>\n",
       "    </tr>\n",
       "    <tr>\n",
       "      <th>7</th>\n",
       "      <td>28.0</td>\n",
       "      <td>2021-12-01</td>\n",
       "      <td>Compra pan</td>\n",
       "      <td>0.00</td>\n",
       "      <td>2.54</td>\n",
       "      <td>300.0</td>\n",
       "    </tr>\n",
       "    <tr>\n",
       "      <th>8</th>\n",
       "      <td>29.0</td>\n",
       "      <td>2021-12-02</td>\n",
       "      <td>Pizzas Telepizza</td>\n",
       "      <td>24.00</td>\n",
       "      <td>0.00</td>\n",
       "      <td>100.0</td>\n",
       "    </tr>\n",
       "    <tr>\n",
       "      <th>9</th>\n",
       "      <td>29.0</td>\n",
       "      <td>2021-12-02</td>\n",
       "      <td>Pizzas Telepizza</td>\n",
       "      <td>0.00</td>\n",
       "      <td>24.00</td>\n",
       "      <td>312.0</td>\n",
       "    </tr>\n",
       "    <tr>\n",
       "      <th>10</th>\n",
       "      <td>30.0</td>\n",
       "      <td>2021-12-03</td>\n",
       "      <td>Gasolina coche</td>\n",
       "      <td>54.00</td>\n",
       "      <td>0.00</td>\n",
       "      <td>1200.0</td>\n",
       "    </tr>\n",
       "    <tr>\n",
       "      <th>11</th>\n",
       "      <td>30.0</td>\n",
       "      <td>2021-12-03</td>\n",
       "      <td>Gasolina coche</td>\n",
       "      <td>0.00</td>\n",
       "      <td>54.00</td>\n",
       "      <td>324.0</td>\n",
       "    </tr>\n",
       "    <tr>\n",
       "      <th>12</th>\n",
       "      <td>31.0</td>\n",
       "      <td>2021-12-04</td>\n",
       "      <td>Hipoteca</td>\n",
       "      <td>524.00</td>\n",
       "      <td>0.00</td>\n",
       "      <td>1101.0</td>\n",
       "    </tr>\n",
       "    <tr>\n",
       "      <th>13</th>\n",
       "      <td>31.0</td>\n",
       "      <td>2021-12-04</td>\n",
       "      <td>Hipoteca</td>\n",
       "      <td>0.00</td>\n",
       "      <td>524.00</td>\n",
       "      <td>15.0</td>\n",
       "    </tr>\n",
       "    <tr>\n",
       "      <th>14</th>\n",
       "      <td>32.0</td>\n",
       "      <td>2021-12-05</td>\n",
       "      <td>Pago IBI</td>\n",
       "      <td>234.00</td>\n",
       "      <td>0.00</td>\n",
       "      <td>1101.0</td>\n",
       "    </tr>\n",
       "    <tr>\n",
       "      <th>15</th>\n",
       "      <td>32.0</td>\n",
       "      <td>2021-12-05</td>\n",
       "      <td>Pago IBI</td>\n",
       "      <td>0.00</td>\n",
       "      <td>234.00</td>\n",
       "      <td>203.0</td>\n",
       "    </tr>\n",
       "  </tbody>\n",
       "</table>\n",
       "</div>"
      ],
      "text/plain": [
       "      id      Fecha                       Descripción    Debe   Haber  Cuenta\n",
       "0   26.0 2021-12-03            Cena en el restaurante   50.00    0.00  1200.0\n",
       "1   26.0 2021-12-03    Cena en el restaurante propina    3.00    0.00   100.0\n",
       "2   26.0 2021-12-03            Cena en el restaurante    0.00   53.00   312.0\n",
       "3   27.0 2021-12-05  Factura EDP - gas y electricidad  150.00    0.00  1101.0\n",
       "4   27.0 2021-12-05                 Factura EDP - gas    0.00  120.00  2001.0\n",
       "5   27.0 2021-12-05        Factura EDP - electricidad    0.00   30.00  2000.0\n",
       "6   28.0 2021-12-01                        Compra pan    2.54    0.00   100.0\n",
       "7   28.0 2021-12-01                        Compra pan    0.00    2.54   300.0\n",
       "8   29.0 2021-12-02                  Pizzas Telepizza   24.00    0.00   100.0\n",
       "9   29.0 2021-12-02                  Pizzas Telepizza    0.00   24.00   312.0\n",
       "10  30.0 2021-12-03                    Gasolina coche   54.00    0.00  1200.0\n",
       "11  30.0 2021-12-03                    Gasolina coche    0.00   54.00   324.0\n",
       "12  31.0 2021-12-04                          Hipoteca  524.00    0.00  1101.0\n",
       "13  31.0 2021-12-04                          Hipoteca    0.00  524.00    15.0\n",
       "14  32.0 2021-12-05                          Pago IBI  234.00    0.00  1101.0\n",
       "15  32.0 2021-12-05                          Pago IBI    0.00  234.00   203.0"
      ]
     },
     "execution_count": 26,
     "metadata": {},
     "output_type": "execute_result"
    }
   ],
   "source": [
    "compleja.id = compleja.id + 25\n",
    "compleja"
   ]
  },
  {
   "cell_type": "markdown",
   "metadata": {},
   "source": [
    "# Dealing with errors\n",
    "\n",
    "Now let's see what happens when the sheet is not completely filled, or contains errors. I want to understand how the dataframe will look like, so I can deal with them in python code."
   ]
  },
  {
   "cell_type": "code",
   "execution_count": 27,
   "metadata": {},
   "outputs": [],
   "source": [
    "def carga_plantilla(file):\n",
    "    simple = pd.read_excel(file, sheet_name='simple', usecols='b:f', parse_dates=[1], header=2)\n",
    "    compleja = pd.read_excel(file, sheet_name='compleja', usecols='b:g', parse_dates=[2], header=2)\n",
    "    \n",
    "    return simple, compleja"
   ]
  },
  {
   "cell_type": "code",
   "execution_count": 28,
   "metadata": {},
   "outputs": [
    {
     "data": {
      "text/html": [
       "<div>\n",
       "<style scoped>\n",
       "    .dataframe tbody tr th:only-of-type {\n",
       "        vertical-align: middle;\n",
       "    }\n",
       "\n",
       "    .dataframe tbody tr th {\n",
       "        vertical-align: top;\n",
       "    }\n",
       "\n",
       "    .dataframe thead th {\n",
       "        text-align: right;\n",
       "    }\n",
       "</style>\n",
       "<table border=\"1\" class=\"dataframe\">\n",
       "  <thead>\n",
       "    <tr style=\"text-align: right;\">\n",
       "      <th></th>\n",
       "      <th>Fecha</th>\n",
       "      <th>Descripción</th>\n",
       "      <th>Valor</th>\n",
       "      <th>Debe</th>\n",
       "      <th>Haber</th>\n",
       "    </tr>\n",
       "  </thead>\n",
       "  <tbody>\n",
       "    <tr>\n",
       "      <th>0</th>\n",
       "      <td>NaN</td>\n",
       "      <td>NaT</td>\n",
       "      <td>NaN</td>\n",
       "      <td>NaN</td>\n",
       "      <td>NaN</td>\n",
       "    </tr>\n",
       "    <tr>\n",
       "      <th>1</th>\n",
       "      <td>NaN</td>\n",
       "      <td>NaT</td>\n",
       "      <td>NaN</td>\n",
       "      <td>NaN</td>\n",
       "      <td>NaN</td>\n",
       "    </tr>\n",
       "    <tr>\n",
       "      <th>2</th>\n",
       "      <td>NaN</td>\n",
       "      <td>NaT</td>\n",
       "      <td>NaN</td>\n",
       "      <td>NaN</td>\n",
       "      <td>NaN</td>\n",
       "    </tr>\n",
       "    <tr>\n",
       "      <th>3</th>\n",
       "      <td>NaN</td>\n",
       "      <td>NaT</td>\n",
       "      <td>NaN</td>\n",
       "      <td>NaN</td>\n",
       "      <td>NaN</td>\n",
       "    </tr>\n",
       "  </tbody>\n",
       "</table>\n",
       "</div>"
      ],
      "text/plain": [
       "   Fecha Descripción  Valor  Debe  Haber\n",
       "0    NaN         NaT    NaN   NaN    NaN\n",
       "1    NaN         NaT    NaN   NaN    NaN\n",
       "2    NaN         NaT    NaN   NaN    NaN\n",
       "3    NaN         NaT    NaN   NaN    NaN"
      ]
     },
     "execution_count": 28,
     "metadata": {},
     "output_type": "execute_result"
    }
   ],
   "source": [
    "simple, compleja = carga_plantilla('plantilla_vacia.xlsx')\n",
    "simple"
   ]
  },
  {
   "cell_type": "code",
   "execution_count": 29,
   "metadata": {},
   "outputs": [
    {
     "data": {
      "text/html": [
       "<div>\n",
       "<style scoped>\n",
       "    .dataframe tbody tr th:only-of-type {\n",
       "        vertical-align: middle;\n",
       "    }\n",
       "\n",
       "    .dataframe tbody tr th {\n",
       "        vertical-align: top;\n",
       "    }\n",
       "\n",
       "    .dataframe thead th {\n",
       "        text-align: right;\n",
       "    }\n",
       "</style>\n",
       "<table border=\"1\" class=\"dataframe\">\n",
       "  <thead>\n",
       "    <tr style=\"text-align: right;\">\n",
       "      <th></th>\n",
       "      <th>id</th>\n",
       "      <th>Fecha</th>\n",
       "      <th>Descripción</th>\n",
       "      <th>Debe</th>\n",
       "      <th>Haber</th>\n",
       "      <th>Cuenta</th>\n",
       "    </tr>\n",
       "  </thead>\n",
       "  <tbody>\n",
       "    <tr>\n",
       "      <th>0</th>\n",
       "      <td>NaN</td>\n",
       "      <td>NaN</td>\n",
       "      <td>NaT</td>\n",
       "      <td>NaN</td>\n",
       "      <td>NaN</td>\n",
       "      <td>NaN</td>\n",
       "    </tr>\n",
       "    <tr>\n",
       "      <th>1</th>\n",
       "      <td>NaN</td>\n",
       "      <td>NaN</td>\n",
       "      <td>NaT</td>\n",
       "      <td>NaN</td>\n",
       "      <td>NaN</td>\n",
       "      <td>NaN</td>\n",
       "    </tr>\n",
       "    <tr>\n",
       "      <th>2</th>\n",
       "      <td>NaN</td>\n",
       "      <td>NaN</td>\n",
       "      <td>NaT</td>\n",
       "      <td>NaN</td>\n",
       "      <td>NaN</td>\n",
       "      <td>NaN</td>\n",
       "    </tr>\n",
       "    <tr>\n",
       "      <th>3</th>\n",
       "      <td>NaN</td>\n",
       "      <td>NaN</td>\n",
       "      <td>NaT</td>\n",
       "      <td>NaN</td>\n",
       "      <td>NaN</td>\n",
       "      <td>NaN</td>\n",
       "    </tr>\n",
       "  </tbody>\n",
       "</table>\n",
       "</div>"
      ],
      "text/plain": [
       "   id  Fecha Descripción  Debe  Haber  Cuenta\n",
       "0 NaN    NaN         NaT   NaN    NaN     NaN\n",
       "1 NaN    NaN         NaT   NaN    NaN     NaN\n",
       "2 NaN    NaN         NaT   NaN    NaN     NaN\n",
       "3 NaN    NaN         NaT   NaN    NaN     NaN"
      ]
     },
     "execution_count": 29,
     "metadata": {},
     "output_type": "execute_result"
    }
   ],
   "source": [
    "compleja"
   ]
  },
  {
   "cell_type": "code",
   "execution_count": 30,
   "metadata": {},
   "outputs": [
    {
     "data": {
      "text/html": [
       "<div>\n",
       "<style scoped>\n",
       "    .dataframe tbody tr th:only-of-type {\n",
       "        vertical-align: middle;\n",
       "    }\n",
       "\n",
       "    .dataframe tbody tr th {\n",
       "        vertical-align: top;\n",
       "    }\n",
       "\n",
       "    .dataframe thead th {\n",
       "        text-align: right;\n",
       "    }\n",
       "</style>\n",
       "<table border=\"1\" class=\"dataframe\">\n",
       "  <thead>\n",
       "    <tr style=\"text-align: right;\">\n",
       "      <th></th>\n",
       "      <th>Fecha</th>\n",
       "      <th>Descripción</th>\n",
       "      <th>Valor</th>\n",
       "      <th>Debe</th>\n",
       "      <th>Haber</th>\n",
       "    </tr>\n",
       "  </thead>\n",
       "  <tbody>\n",
       "    <tr>\n",
       "      <th>0</th>\n",
       "      <td>2021-12-01</td>\n",
       "      <td>Compra pan</td>\n",
       "      <td>2.54</td>\n",
       "      <td>100.0</td>\n",
       "      <td>300.0</td>\n",
       "    </tr>\n",
       "    <tr>\n",
       "      <th>1</th>\n",
       "      <td>NaT</td>\n",
       "      <td>NaN</td>\n",
       "      <td>NaN</td>\n",
       "      <td>NaN</td>\n",
       "      <td>NaN</td>\n",
       "    </tr>\n",
       "    <tr>\n",
       "      <th>2</th>\n",
       "      <td>NaT</td>\n",
       "      <td>NaN</td>\n",
       "      <td>NaN</td>\n",
       "      <td>NaN</td>\n",
       "      <td>NaN</td>\n",
       "    </tr>\n",
       "    <tr>\n",
       "      <th>3</th>\n",
       "      <td>NaT</td>\n",
       "      <td>NaN</td>\n",
       "      <td>NaN</td>\n",
       "      <td>NaN</td>\n",
       "      <td>NaN</td>\n",
       "    </tr>\n",
       "  </tbody>\n",
       "</table>\n",
       "</div>"
      ],
      "text/plain": [
       "       Fecha Descripción  Valor   Debe  Haber\n",
       "0 2021-12-01  Compra pan   2.54  100.0  300.0\n",
       "1        NaT         NaN    NaN    NaN    NaN\n",
       "2        NaT         NaN    NaN    NaN    NaN\n",
       "3        NaT         NaN    NaN    NaN    NaN"
      ]
     },
     "execution_count": 30,
     "metadata": {},
     "output_type": "execute_result"
    }
   ],
   "source": [
    "simple, compleja = carga_plantilla('plantilla_parcial.xlsx')\n",
    "simple"
   ]
  },
  {
   "cell_type": "code",
   "execution_count": 31,
   "metadata": {},
   "outputs": [
    {
     "data": {
      "text/html": [
       "<div>\n",
       "<style scoped>\n",
       "    .dataframe tbody tr th:only-of-type {\n",
       "        vertical-align: middle;\n",
       "    }\n",
       "\n",
       "    .dataframe tbody tr th {\n",
       "        vertical-align: top;\n",
       "    }\n",
       "\n",
       "    .dataframe thead th {\n",
       "        text-align: right;\n",
       "    }\n",
       "</style>\n",
       "<table border=\"1\" class=\"dataframe\">\n",
       "  <thead>\n",
       "    <tr style=\"text-align: right;\">\n",
       "      <th></th>\n",
       "      <th>id</th>\n",
       "      <th>Fecha</th>\n",
       "      <th>Descripción</th>\n",
       "      <th>Debe</th>\n",
       "      <th>Haber</th>\n",
       "      <th>Cuenta</th>\n",
       "    </tr>\n",
       "  </thead>\n",
       "  <tbody>\n",
       "    <tr>\n",
       "      <th>0</th>\n",
       "      <td>1.0</td>\n",
       "      <td>2021-12-03</td>\n",
       "      <td>Cena en el restaurante</td>\n",
       "      <td>50.0</td>\n",
       "      <td>0.0</td>\n",
       "      <td>1200.0</td>\n",
       "    </tr>\n",
       "    <tr>\n",
       "      <th>1</th>\n",
       "      <td>1.0</td>\n",
       "      <td>2021-12-03</td>\n",
       "      <td>Cena en el restaurante propina</td>\n",
       "      <td>3.0</td>\n",
       "      <td>0.0</td>\n",
       "      <td>100.0</td>\n",
       "    </tr>\n",
       "    <tr>\n",
       "      <th>2</th>\n",
       "      <td>1.0</td>\n",
       "      <td>2021-12-03</td>\n",
       "      <td>Cena en el restaurante</td>\n",
       "      <td>0.0</td>\n",
       "      <td>53.0</td>\n",
       "      <td>312.0</td>\n",
       "    </tr>\n",
       "    <tr>\n",
       "      <th>3</th>\n",
       "      <td>NaN</td>\n",
       "      <td>NaT</td>\n",
       "      <td>NaN</td>\n",
       "      <td>NaN</td>\n",
       "      <td>NaN</td>\n",
       "      <td>NaN</td>\n",
       "    </tr>\n",
       "  </tbody>\n",
       "</table>\n",
       "</div>"
      ],
      "text/plain": [
       "    id      Fecha                     Descripción  Debe  Haber  Cuenta\n",
       "0  1.0 2021-12-03          Cena en el restaurante  50.0    0.0  1200.0\n",
       "1  1.0 2021-12-03  Cena en el restaurante propina   3.0    0.0   100.0\n",
       "2  1.0 2021-12-03          Cena en el restaurante   0.0   53.0   312.0\n",
       "3  NaN        NaT                             NaN   NaN    NaN     NaN"
      ]
     },
     "execution_count": 31,
     "metadata": {},
     "output_type": "execute_result"
    }
   ],
   "source": [
    "compleja"
   ]
  },
  {
   "cell_type": "markdown",
   "metadata": {},
   "source": [
    "So empty templates produce NaN values. I need to detect those."
   ]
  },
  {
   "cell_type": "code",
   "execution_count": 32,
   "metadata": {},
   "outputs": [
    {
     "data": {
      "text/plain": [
       "False"
      ]
     },
     "execution_count": 32,
     "metadata": {},
     "output_type": "execute_result"
    }
   ],
   "source": [
    "# True if any of the files in the row is NaN (or NaT)\n",
    "compleja.loc[0].isnull().any()"
   ]
  },
  {
   "cell_type": "code",
   "execution_count": 33,
   "metadata": {},
   "outputs": [
    {
     "data": {
      "text/plain": [
       "True"
      ]
     },
     "execution_count": 33,
     "metadata": {},
     "output_type": "execute_result"
    }
   ],
   "source": [
    "# True if any of the files in the row is NaN (or NaT)\n",
    "simple.loc[1].isnull().any()"
   ]
  },
  {
   "cell_type": "code",
   "execution_count": 34,
   "metadata": {},
   "outputs": [
    {
     "data": {
      "text/plain": [
       "Fecha          NaT\n",
       "Descripción    NaN\n",
       "Valor          NaN\n",
       "Debe           NaN\n",
       "Haber          NaN\n",
       "Name: 1, dtype: object"
      ]
     },
     "execution_count": 34,
     "metadata": {},
     "output_type": "execute_result"
    }
   ],
   "source": [
    "simple.loc[1]"
   ]
  },
  {
   "cell_type": "code",
   "execution_count": 35,
   "metadata": {},
   "outputs": [
    {
     "data": {
      "text/plain": [
       "NaT"
      ]
     },
     "execution_count": 35,
     "metadata": {},
     "output_type": "execute_result"
    }
   ],
   "source": [
    "fecha, descripcion, valor, debe, haber = simple.loc[1]\n",
    "fecha"
   ]
  },
  {
   "cell_type": "code",
   "execution_count": 36,
   "metadata": {},
   "outputs": [
    {
     "data": {
      "text/html": [
       "<div>\n",
       "<style scoped>\n",
       "    .dataframe tbody tr th:only-of-type {\n",
       "        vertical-align: middle;\n",
       "    }\n",
       "\n",
       "    .dataframe tbody tr th {\n",
       "        vertical-align: top;\n",
       "    }\n",
       "\n",
       "    .dataframe thead th {\n",
       "        text-align: right;\n",
       "    }\n",
       "</style>\n",
       "<table border=\"1\" class=\"dataframe\">\n",
       "  <thead>\n",
       "    <tr style=\"text-align: right;\">\n",
       "      <th></th>\n",
       "      <th>Fecha</th>\n",
       "      <th>Descripción</th>\n",
       "      <th>Valor</th>\n",
       "      <th>Debe</th>\n",
       "      <th>Haber</th>\n",
       "    </tr>\n",
       "  </thead>\n",
       "  <tbody>\n",
       "    <tr>\n",
       "      <th>0</th>\n",
       "      <td>2021-12-01 00:00:00</td>\n",
       "      <td>Compra pan</td>\n",
       "      <td>2.54</td>\n",
       "      <td>100</td>\n",
       "      <td>300.0</td>\n",
       "    </tr>\n",
       "    <tr>\n",
       "      <th>1</th>\n",
       "      <td>23</td>\n",
       "      <td>Pizzas Telepizza</td>\n",
       "      <td>24.00</td>\n",
       "      <td>100</td>\n",
       "      <td>312.0</td>\n",
       "    </tr>\n",
       "    <tr>\n",
       "      <th>2</th>\n",
       "      <td>2021-12-03 00:00:00</td>\n",
       "      <td>Gasolina coche</td>\n",
       "      <td>54.00</td>\n",
       "      <td>1200</td>\n",
       "      <td>NaN</td>\n",
       "    </tr>\n",
       "    <tr>\n",
       "      <th>3</th>\n",
       "      <td>2021-12-04 00:00:00</td>\n",
       "      <td>Hipoteca</td>\n",
       "      <td>524.00</td>\n",
       "      <td>1101</td>\n",
       "      <td>15.0</td>\n",
       "    </tr>\n",
       "    <tr>\n",
       "      <th>4</th>\n",
       "      <td>2021-12-05 00:00:00</td>\n",
       "      <td>Pago IBI</td>\n",
       "      <td>NaN</td>\n",
       "      <td>1101</td>\n",
       "      <td>203.0</td>\n",
       "    </tr>\n",
       "  </tbody>\n",
       "</table>\n",
       "</div>"
      ],
      "text/plain": [
       "                 Fecha       Descripción   Valor  Debe  Haber\n",
       "0  2021-12-01 00:00:00        Compra pan    2.54   100  300.0\n",
       "1                   23  Pizzas Telepizza   24.00   100  312.0\n",
       "2  2021-12-03 00:00:00    Gasolina coche   54.00  1200    NaN\n",
       "3  2021-12-04 00:00:00          Hipoteca  524.00  1101   15.0\n",
       "4  2021-12-05 00:00:00          Pago IBI     NaN  1101  203.0"
      ]
     },
     "execution_count": 36,
     "metadata": {},
     "output_type": "execute_result"
    }
   ],
   "source": [
    "simple, compleja = carga_plantilla('plantilla_errores.xlsx')\n",
    "simple"
   ]
  },
  {
   "cell_type": "code",
   "execution_count": 37,
   "metadata": {},
   "outputs": [
    {
     "data": {
      "text/html": [
       "<div>\n",
       "<style scoped>\n",
       "    .dataframe tbody tr th:only-of-type {\n",
       "        vertical-align: middle;\n",
       "    }\n",
       "\n",
       "    .dataframe tbody tr th {\n",
       "        vertical-align: top;\n",
       "    }\n",
       "\n",
       "    .dataframe thead th {\n",
       "        text-align: right;\n",
       "    }\n",
       "</style>\n",
       "<table border=\"1\" class=\"dataframe\">\n",
       "  <thead>\n",
       "    <tr style=\"text-align: right;\">\n",
       "      <th></th>\n",
       "      <th>id</th>\n",
       "      <th>Fecha</th>\n",
       "      <th>Descripción</th>\n",
       "      <th>Debe</th>\n",
       "      <th>Haber</th>\n",
       "      <th>Cuenta</th>\n",
       "    </tr>\n",
       "  </thead>\n",
       "  <tbody>\n",
       "    <tr>\n",
       "      <th>0</th>\n",
       "      <td>1</td>\n",
       "      <td>2021-12-03</td>\n",
       "      <td>Cena en el restaurante</td>\n",
       "      <td>50.0</td>\n",
       "      <td>0.0</td>\n",
       "      <td>1200</td>\n",
       "    </tr>\n",
       "    <tr>\n",
       "      <th>1</th>\n",
       "      <td>1</td>\n",
       "      <td>2021-12-03</td>\n",
       "      <td>Cena en el restaurante propina</td>\n",
       "      <td>3.0</td>\n",
       "      <td>0.0</td>\n",
       "      <td>100</td>\n",
       "    </tr>\n",
       "    <tr>\n",
       "      <th>2</th>\n",
       "      <td>1</td>\n",
       "      <td>2021-12-03</td>\n",
       "      <td>Cena en el restaurante</td>\n",
       "      <td>0.0</td>\n",
       "      <td>53.0</td>\n",
       "      <td>312</td>\n",
       "    </tr>\n",
       "    <tr>\n",
       "      <th>3</th>\n",
       "      <td>2</td>\n",
       "      <td>2021-12-05</td>\n",
       "      <td>Factura EDP - gas y electricidad</td>\n",
       "      <td>150.0</td>\n",
       "      <td>NaN</td>\n",
       "      <td>1101</td>\n",
       "    </tr>\n",
       "    <tr>\n",
       "      <th>4</th>\n",
       "      <td>2</td>\n",
       "      <td>2021-12-05</td>\n",
       "      <td>Factura EDP - gas</td>\n",
       "      <td>0.0</td>\n",
       "      <td>120.0</td>\n",
       "      <td>2001</td>\n",
       "    </tr>\n",
       "    <tr>\n",
       "      <th>5</th>\n",
       "      <td>2</td>\n",
       "      <td>2021-12-05</td>\n",
       "      <td>Factura EDP - electricidad</td>\n",
       "      <td>NaN</td>\n",
       "      <td>30.0</td>\n",
       "      <td>2000</td>\n",
       "    </tr>\n",
       "  </tbody>\n",
       "</table>\n",
       "</div>"
      ],
      "text/plain": [
       "   id      Fecha                       Descripción   Debe  Haber  Cuenta\n",
       "0   1 2021-12-03            Cena en el restaurante   50.0    0.0    1200\n",
       "1   1 2021-12-03    Cena en el restaurante propina    3.0    0.0     100\n",
       "2   1 2021-12-03            Cena en el restaurante    0.0   53.0     312\n",
       "3   2 2021-12-05  Factura EDP - gas y electricidad  150.0    NaN    1101\n",
       "4   2 2021-12-05                 Factura EDP - gas    0.0  120.0    2001\n",
       "5   2 2021-12-05        Factura EDP - electricidad    NaN   30.0    2000"
      ]
     },
     "execution_count": 37,
     "metadata": {},
     "output_type": "execute_result"
    }
   ],
   "source": [
    "compleja"
   ]
  },
  {
   "cell_type": "code",
   "execution_count": 38,
   "metadata": {},
   "outputs": [
    {
     "name": "stdout",
     "output_type": "stream",
     "text": [
      "Fila: 0 -- False\n",
      "Fila: 1 -- False\n",
      "Fila: 2 -- False\n",
      "Fila: 3 -- True\n",
      "Fila: 4 -- False\n",
      "Fila: 5 -- True\n"
     ]
    }
   ],
   "source": [
    "for mov in compleja.index:\n",
    "    print(f\"Fila: {mov} --\", compleja.loc[mov].isnull().any())"
   ]
  },
  {
   "cell_type": "code",
   "execution_count": 39,
   "metadata": {},
   "outputs": [
    {
     "name": "stdout",
     "output_type": "stream",
     "text": [
      "Fila: 0 -- False\n",
      "Fila: 1 -- False\n",
      "Fila: 2 -- True\n",
      "Fila: 3 -- False\n",
      "Fila: 4 -- True\n"
     ]
    }
   ],
   "source": [
    "for mov in simple.index:\n",
    "    print(f\"Fila: {mov} --\", simple.loc[mov].isnull().any())"
   ]
  },
  {
   "cell_type": "code",
   "execution_count": 40,
   "metadata": {},
   "outputs": [
    {
     "data": {
      "text/html": [
       "<div>\n",
       "<style scoped>\n",
       "    .dataframe tbody tr th:only-of-type {\n",
       "        vertical-align: middle;\n",
       "    }\n",
       "\n",
       "    .dataframe tbody tr th {\n",
       "        vertical-align: top;\n",
       "    }\n",
       "\n",
       "    .dataframe thead th {\n",
       "        text-align: right;\n",
       "    }\n",
       "</style>\n",
       "<table border=\"1\" class=\"dataframe\">\n",
       "  <thead>\n",
       "    <tr style=\"text-align: right;\">\n",
       "      <th></th>\n",
       "      <th>id</th>\n",
       "      <th>Fecha</th>\n",
       "      <th>Descripción</th>\n",
       "      <th>Debe</th>\n",
       "      <th>Haber</th>\n",
       "      <th>Cuenta</th>\n",
       "    </tr>\n",
       "  </thead>\n",
       "  <tbody>\n",
       "    <tr>\n",
       "      <th>0</th>\n",
       "      <td>1</td>\n",
       "      <td>2021-12-03</td>\n",
       "      <td>Cena en el restaurante</td>\n",
       "      <td>50.0</td>\n",
       "      <td>0.0</td>\n",
       "      <td>1200</td>\n",
       "    </tr>\n",
       "    <tr>\n",
       "      <th>1</th>\n",
       "      <td>1</td>\n",
       "      <td>2021-12-03</td>\n",
       "      <td>Cena en el restaurante propina</td>\n",
       "      <td>3.0</td>\n",
       "      <td>0.0</td>\n",
       "      <td>100</td>\n",
       "    </tr>\n",
       "    <tr>\n",
       "      <th>2</th>\n",
       "      <td>1</td>\n",
       "      <td>2021-12-03</td>\n",
       "      <td>Cena en el restaurante</td>\n",
       "      <td>0.0</td>\n",
       "      <td>53.0</td>\n",
       "      <td>312</td>\n",
       "    </tr>\n",
       "    <tr>\n",
       "      <th>4</th>\n",
       "      <td>2</td>\n",
       "      <td>2021-12-05</td>\n",
       "      <td>Factura EDP - gas</td>\n",
       "      <td>0.0</td>\n",
       "      <td>120.0</td>\n",
       "      <td>2001</td>\n",
       "    </tr>\n",
       "    <tr>\n",
       "      <th>5</th>\n",
       "      <td>2</td>\n",
       "      <td>2021-12-05</td>\n",
       "      <td>Factura EDP - electricidad</td>\n",
       "      <td>NaN</td>\n",
       "      <td>30.0</td>\n",
       "      <td>2000</td>\n",
       "    </tr>\n",
       "  </tbody>\n",
       "</table>\n",
       "</div>"
      ],
      "text/plain": [
       "   id      Fecha                     Descripción  Debe  Haber  Cuenta\n",
       "0   1 2021-12-03          Cena en el restaurante  50.0    0.0    1200\n",
       "1   1 2021-12-03  Cena en el restaurante propina   3.0    0.0     100\n",
       "2   1 2021-12-03          Cena en el restaurante   0.0   53.0     312\n",
       "4   2 2021-12-05               Factura EDP - gas   0.0  120.0    2001\n",
       "5   2 2021-12-05      Factura EDP - electricidad   NaN   30.0    2000"
      ]
     },
     "execution_count": 40,
     "metadata": {},
     "output_type": "execute_result"
    }
   ],
   "source": [
    "compleja.drop(labels=3, axis=0)"
   ]
  },
  {
   "cell_type": "code",
   "execution_count": 41,
   "metadata": {},
   "outputs": [
    {
     "data": {
      "text/plain": [
       "pandas._libs.tslibs.timestamps.Timestamp"
      ]
     },
     "execution_count": 41,
     "metadata": {},
     "output_type": "execute_result"
    }
   ],
   "source": [
    "type(compleja.loc[0, 'Fecha'])"
   ]
  },
  {
   "cell_type": "code",
   "execution_count": 42,
   "metadata": {},
   "outputs": [
    {
     "data": {
      "text/plain": [
       "True"
      ]
     },
     "execution_count": 42,
     "metadata": {},
     "output_type": "execute_result"
    }
   ],
   "source": [
    "isinstance(compleja.loc[0, 'Fecha'], pd.Timestamp)"
   ]
  },
  {
   "cell_type": "code",
   "execution_count": 43,
   "metadata": {},
   "outputs": [
    {
     "data": {
      "text/plain": [
       "str"
      ]
     },
     "execution_count": 43,
     "metadata": {},
     "output_type": "execute_result"
    }
   ],
   "source": [
    "type(compleja.loc[0, 'Descripción'])"
   ]
  },
  {
   "cell_type": "code",
   "execution_count": 44,
   "metadata": {},
   "outputs": [
    {
     "ename": "ValueError",
     "evalue": "could not convert string to float: 'Cena en el restaurante'",
     "output_type": "error",
     "traceback": [
      "\u001b[1;31m---------------------------------------------------------------------------\u001b[0m",
      "\u001b[1;31mValueError\u001b[0m                                Traceback (most recent call last)",
      "\u001b[1;32m<ipython-input-44-51f09c63aa92>\u001b[0m in \u001b[0;36m<module>\u001b[1;34m\u001b[0m\n\u001b[1;32m----> 1\u001b[1;33m \u001b[0mfloat\u001b[0m\u001b[1;33m(\u001b[0m\u001b[0mcompleja\u001b[0m\u001b[1;33m.\u001b[0m\u001b[0mloc\u001b[0m\u001b[1;33m[\u001b[0m\u001b[1;36m0\u001b[0m\u001b[1;33m,\u001b[0m \u001b[1;34m'Descripción'\u001b[0m\u001b[1;33m]\u001b[0m\u001b[1;33m)\u001b[0m\u001b[1;33m\u001b[0m\u001b[1;33m\u001b[0m\u001b[0m\n\u001b[0m",
      "\u001b[1;31mValueError\u001b[0m: could not convert string to float: 'Cena en el restaurante'"
     ]
    }
   ],
   "source": [
    "float(compleja.loc[0, 'Descripción'])"
   ]
  },
  {
   "cell_type": "code",
   "execution_count": 45,
   "metadata": {},
   "outputs": [
    {
     "ename": "TypeError",
     "evalue": "float() argument must be a string or a number, not 'Timestamp'",
     "output_type": "error",
     "traceback": [
      "\u001b[1;31m---------------------------------------------------------------------------\u001b[0m",
      "\u001b[1;31mTypeError\u001b[0m                                 Traceback (most recent call last)",
      "\u001b[1;32m<ipython-input-45-a85b287fb818>\u001b[0m in \u001b[0;36m<module>\u001b[1;34m\u001b[0m\n\u001b[1;32m----> 1\u001b[1;33m \u001b[0mfloat\u001b[0m\u001b[1;33m(\u001b[0m\u001b[0mcompleja\u001b[0m\u001b[1;33m.\u001b[0m\u001b[0mloc\u001b[0m\u001b[1;33m[\u001b[0m\u001b[1;36m0\u001b[0m\u001b[1;33m,\u001b[0m \u001b[1;34m'Fecha'\u001b[0m\u001b[1;33m]\u001b[0m\u001b[1;33m)\u001b[0m\u001b[1;33m\u001b[0m\u001b[1;33m\u001b[0m\u001b[0m\n\u001b[0m",
      "\u001b[1;31mTypeError\u001b[0m: float() argument must be a string or a number, not 'Timestamp'"
     ]
    }
   ],
   "source": [
    "float(compleja.loc[0, 'Fecha'])"
   ]
  },
  {
   "cell_type": "code",
   "execution_count": 46,
   "metadata": {},
   "outputs": [
    {
     "data": {
      "text/plain": [
       "True"
      ]
     },
     "execution_count": 46,
     "metadata": {},
     "output_type": "execute_result"
    }
   ],
   "source": [
    "var = compleja.loc[0, 'Haber']\n",
    "isinstance(var, (int, float, np.float64, np.int64))"
   ]
  },
  {
   "cell_type": "code",
   "execution_count": 47,
   "metadata": {},
   "outputs": [
    {
     "name": "stdout",
     "output_type": "stream",
     "text": [
      "<class 'pandas.core.frame.DataFrame'>\n",
      "RangeIndex: 5 entries, 0 to 4\n",
      "Data columns (total 5 columns):\n",
      " #   Column       Non-Null Count  Dtype  \n",
      "---  ------       --------------  -----  \n",
      " 0   Fecha        5 non-null      object \n",
      " 1   Descripción  5 non-null      object \n",
      " 2   Valor        4 non-null      float64\n",
      " 3   Debe         5 non-null      int64  \n",
      " 4   Haber        4 non-null      float64\n",
      "dtypes: float64(2), int64(1), object(2)\n",
      "memory usage: 328.0+ bytes\n"
     ]
    }
   ],
   "source": [
    "simple.info()"
   ]
  },
  {
   "cell_type": "markdown",
   "metadata": {},
   "source": [
    "I get errors due to Cuenta, Debe and Haber being interpreted as floats, instead of text or int. I need to parse them directly when reading the file."
   ]
  },
  {
   "cell_type": "code",
   "execution_count": 48,
   "metadata": {},
   "outputs": [],
   "source": [
    "simple = pd.read_excel('plantilla.xlsx', sheet_name='simple', usecols='b:f', parse_dates=[1], \n",
    "                       header=2, dtype={'Haber': str, 'Debe': str})"
   ]
  },
  {
   "cell_type": "code",
   "execution_count": 49,
   "metadata": {},
   "outputs": [
    {
     "name": "stdout",
     "output_type": "stream",
     "text": [
      "<class 'pandas.core.frame.DataFrame'>\n",
      "RangeIndex: 5 entries, 0 to 4\n",
      "Data columns (total 5 columns):\n",
      " #   Column       Non-Null Count  Dtype         \n",
      "---  ------       --------------  -----         \n",
      " 0   Fecha        5 non-null      datetime64[ns]\n",
      " 1   Descripción  5 non-null      object        \n",
      " 2   Valor        5 non-null      float64       \n",
      " 3   Debe         5 non-null      object        \n",
      " 4   Haber        5 non-null      object        \n",
      "dtypes: datetime64[ns](1), float64(1), object(3)\n",
      "memory usage: 328.0+ bytes\n"
     ]
    }
   ],
   "source": [
    "simple.info()"
   ]
  },
  {
   "cell_type": "code",
   "execution_count": 50,
   "metadata": {},
   "outputs": [],
   "source": [
    "compleja = pd.read_excel('plantilla.xlsx', sheet_name='compleja', usecols='b:g', parse_dates=[2], header=2,\n",
    "                        dtype={'Cuenta': str})"
   ]
  },
  {
   "cell_type": "code",
   "execution_count": 51,
   "metadata": {
    "scrolled": true
   },
   "outputs": [
    {
     "name": "stdout",
     "output_type": "stream",
     "text": [
      "<class 'pandas.core.frame.DataFrame'>\n",
      "RangeIndex: 6 entries, 0 to 5\n",
      "Data columns (total 6 columns):\n",
      " #   Column       Non-Null Count  Dtype         \n",
      "---  ------       --------------  -----         \n",
      " 0   id           6 non-null      int64         \n",
      " 1   Fecha        6 non-null      datetime64[ns]\n",
      " 2   Descripción  6 non-null      object        \n",
      " 3   Debe         6 non-null      int64         \n",
      " 4   Haber        6 non-null      int64         \n",
      " 5   Cuenta       6 non-null      object        \n",
      "dtypes: datetime64[ns](1), int64(3), object(2)\n",
      "memory usage: 416.0+ bytes\n"
     ]
    }
   ],
   "source": [
    "compleja.info()"
   ]
  },
  {
   "cell_type": "code",
   "execution_count": 54,
   "metadata": {},
   "outputs": [
    {
     "name": "stdout",
     "output_type": "stream",
     "text": [
      "<class 'pandas.core.frame.DataFrame'>\n",
      "RangeIndex: 5 entries, 0 to 4\n",
      "Data columns (total 6 columns):\n",
      " #   Column       Non-Null Count  Dtype         \n",
      "---  ------       --------------  -----         \n",
      " 0   Fecha        5 non-null      datetime64[ns]\n",
      " 1   Descripción  5 non-null      object        \n",
      " 2   Valor        5 non-null      float64       \n",
      " 3   Debe         5 non-null      object        \n",
      " 4   Haber        5 non-null      object        \n",
      " 5   nf           5 non-null      object        \n",
      "dtypes: datetime64[ns](1), float64(1), object(4)\n",
      "memory usage: 368.0+ bytes\n"
     ]
    }
   ],
   "source": [
    "simple['nf'] = simple.Fecha.dt.date\n",
    "simple.info()"
   ]
  },
  {
   "cell_type": "markdown",
   "metadata": {},
   "source": [
    "## Errors loading the file"
   ]
  },
  {
   "cell_type": "code",
   "execution_count": 66,
   "metadata": {},
   "outputs": [
    {
     "ename": "ValueError",
     "evalue": "Worksheet named 'simple' not found",
     "output_type": "error",
     "traceback": [
      "\u001b[1;31m---------------------------------------------------------------------------\u001b[0m",
      "\u001b[1;31mValueError\u001b[0m                                Traceback (most recent call last)",
      "\u001b[1;32m<ipython-input-66-2357184e5aca>\u001b[0m in \u001b[0;36m<module>\u001b[1;34m\u001b[0m\n\u001b[0;32m      1\u001b[0m \u001b[1;31m# If the excel file does not have the expected sheet, we will get an error.\u001b[0m\u001b[1;33m\u001b[0m\u001b[1;33m\u001b[0m\u001b[1;33m\u001b[0m\u001b[0m\n\u001b[0;32m      2\u001b[0m simple = pd.read_excel('cuentas.xlsx', sheet_name='simple', usecols='b:f', parse_dates=[1], \n\u001b[1;32m----> 3\u001b[1;33m                        header=2, dtype={'Haber': str, 'Debe': str})\n\u001b[0m",
      "\u001b[1;32mC:\\Cloud\\Portable\\WPy64\\python-3.7.7.amd64\\lib\\site-packages\\pandas\\util\\_decorators.py\u001b[0m in \u001b[0;36mwrapper\u001b[1;34m(*args, **kwargs)\u001b[0m\n\u001b[0;32m    297\u001b[0m                 )\n\u001b[0;32m    298\u001b[0m                 \u001b[0mwarnings\u001b[0m\u001b[1;33m.\u001b[0m\u001b[0mwarn\u001b[0m\u001b[1;33m(\u001b[0m\u001b[0mmsg\u001b[0m\u001b[1;33m,\u001b[0m \u001b[0mFutureWarning\u001b[0m\u001b[1;33m,\u001b[0m \u001b[0mstacklevel\u001b[0m\u001b[1;33m=\u001b[0m\u001b[0mstacklevel\u001b[0m\u001b[1;33m)\u001b[0m\u001b[1;33m\u001b[0m\u001b[1;33m\u001b[0m\u001b[0m\n\u001b[1;32m--> 299\u001b[1;33m             \u001b[1;32mreturn\u001b[0m \u001b[0mfunc\u001b[0m\u001b[1;33m(\u001b[0m\u001b[1;33m*\u001b[0m\u001b[0margs\u001b[0m\u001b[1;33m,\u001b[0m \u001b[1;33m**\u001b[0m\u001b[0mkwargs\u001b[0m\u001b[1;33m)\u001b[0m\u001b[1;33m\u001b[0m\u001b[1;33m\u001b[0m\u001b[0m\n\u001b[0m\u001b[0;32m    300\u001b[0m \u001b[1;33m\u001b[0m\u001b[0m\n\u001b[0;32m    301\u001b[0m         \u001b[1;32mreturn\u001b[0m \u001b[0mwrapper\u001b[0m\u001b[1;33m\u001b[0m\u001b[1;33m\u001b[0m\u001b[0m\n",
      "\u001b[1;32mC:\\Cloud\\Portable\\WPy64\\python-3.7.7.amd64\\lib\\site-packages\\pandas\\io\\excel\\_base.py\u001b[0m in \u001b[0;36mread_excel\u001b[1;34m(io, sheet_name, header, names, index_col, usecols, squeeze, dtype, engine, converters, true_values, false_values, skiprows, nrows, na_values, keep_default_na, na_filter, verbose, parse_dates, date_parser, thousands, comment, skipfooter, convert_float, mangle_dupe_cols, storage_options)\u001b[0m\n\u001b[0;32m    365\u001b[0m             \u001b[0mskipfooter\u001b[0m\u001b[1;33m=\u001b[0m\u001b[0mskipfooter\u001b[0m\u001b[1;33m,\u001b[0m\u001b[1;33m\u001b[0m\u001b[1;33m\u001b[0m\u001b[0m\n\u001b[0;32m    366\u001b[0m             \u001b[0mconvert_float\u001b[0m\u001b[1;33m=\u001b[0m\u001b[0mconvert_float\u001b[0m\u001b[1;33m,\u001b[0m\u001b[1;33m\u001b[0m\u001b[1;33m\u001b[0m\u001b[0m\n\u001b[1;32m--> 367\u001b[1;33m             \u001b[0mmangle_dupe_cols\u001b[0m\u001b[1;33m=\u001b[0m\u001b[0mmangle_dupe_cols\u001b[0m\u001b[1;33m,\u001b[0m\u001b[1;33m\u001b[0m\u001b[1;33m\u001b[0m\u001b[0m\n\u001b[0m\u001b[0;32m    368\u001b[0m         )\n\u001b[0;32m    369\u001b[0m     \u001b[1;32mfinally\u001b[0m\u001b[1;33m:\u001b[0m\u001b[1;33m\u001b[0m\u001b[1;33m\u001b[0m\u001b[0m\n",
      "\u001b[1;32mC:\\Cloud\\Portable\\WPy64\\python-3.7.7.amd64\\lib\\site-packages\\pandas\\io\\excel\\_base.py\u001b[0m in \u001b[0;36mparse\u001b[1;34m(self, sheet_name, header, names, index_col, usecols, squeeze, converters, true_values, false_values, skiprows, nrows, na_values, parse_dates, date_parser, thousands, comment, skipfooter, convert_float, mangle_dupe_cols, **kwds)\u001b[0m\n\u001b[0;32m   1188\u001b[0m             \u001b[0mconvert_float\u001b[0m\u001b[1;33m=\u001b[0m\u001b[0mconvert_float\u001b[0m\u001b[1;33m,\u001b[0m\u001b[1;33m\u001b[0m\u001b[1;33m\u001b[0m\u001b[0m\n\u001b[0;32m   1189\u001b[0m             \u001b[0mmangle_dupe_cols\u001b[0m\u001b[1;33m=\u001b[0m\u001b[0mmangle_dupe_cols\u001b[0m\u001b[1;33m,\u001b[0m\u001b[1;33m\u001b[0m\u001b[1;33m\u001b[0m\u001b[0m\n\u001b[1;32m-> 1190\u001b[1;33m             \u001b[1;33m**\u001b[0m\u001b[0mkwds\u001b[0m\u001b[1;33m,\u001b[0m\u001b[1;33m\u001b[0m\u001b[1;33m\u001b[0m\u001b[0m\n\u001b[0m\u001b[0;32m   1191\u001b[0m         )\n\u001b[0;32m   1192\u001b[0m \u001b[1;33m\u001b[0m\u001b[0m\n",
      "\u001b[1;32mC:\\Cloud\\Portable\\WPy64\\python-3.7.7.amd64\\lib\\site-packages\\pandas\\io\\excel\\_base.py\u001b[0m in \u001b[0;36mparse\u001b[1;34m(self, sheet_name, header, names, index_col, usecols, squeeze, dtype, true_values, false_values, skiprows, nrows, na_values, verbose, parse_dates, date_parser, thousands, comment, skipfooter, convert_float, mangle_dupe_cols, **kwds)\u001b[0m\n\u001b[0;32m    486\u001b[0m \u001b[1;33m\u001b[0m\u001b[0m\n\u001b[0;32m    487\u001b[0m             \u001b[1;32mif\u001b[0m \u001b[0misinstance\u001b[0m\u001b[1;33m(\u001b[0m\u001b[0masheetname\u001b[0m\u001b[1;33m,\u001b[0m \u001b[0mstr\u001b[0m\u001b[1;33m)\u001b[0m\u001b[1;33m:\u001b[0m\u001b[1;33m\u001b[0m\u001b[1;33m\u001b[0m\u001b[0m\n\u001b[1;32m--> 488\u001b[1;33m                 \u001b[0msheet\u001b[0m \u001b[1;33m=\u001b[0m \u001b[0mself\u001b[0m\u001b[1;33m.\u001b[0m\u001b[0mget_sheet_by_name\u001b[0m\u001b[1;33m(\u001b[0m\u001b[0masheetname\u001b[0m\u001b[1;33m)\u001b[0m\u001b[1;33m\u001b[0m\u001b[1;33m\u001b[0m\u001b[0m\n\u001b[0m\u001b[0;32m    489\u001b[0m             \u001b[1;32melse\u001b[0m\u001b[1;33m:\u001b[0m  \u001b[1;31m# assume an integer if not a string\u001b[0m\u001b[1;33m\u001b[0m\u001b[1;33m\u001b[0m\u001b[0m\n\u001b[0;32m    490\u001b[0m                 \u001b[0msheet\u001b[0m \u001b[1;33m=\u001b[0m \u001b[0mself\u001b[0m\u001b[1;33m.\u001b[0m\u001b[0mget_sheet_by_index\u001b[0m\u001b[1;33m(\u001b[0m\u001b[0masheetname\u001b[0m\u001b[1;33m)\u001b[0m\u001b[1;33m\u001b[0m\u001b[1;33m\u001b[0m\u001b[0m\n",
      "\u001b[1;32mC:\\Cloud\\Portable\\WPy64\\python-3.7.7.amd64\\lib\\site-packages\\pandas\\io\\excel\\_openpyxl.py\u001b[0m in \u001b[0;36mget_sheet_by_name\u001b[1;34m(self, name)\u001b[0m\n\u001b[0;32m    499\u001b[0m \u001b[1;33m\u001b[0m\u001b[0m\n\u001b[0;32m    500\u001b[0m     \u001b[1;32mdef\u001b[0m \u001b[0mget_sheet_by_name\u001b[0m\u001b[1;33m(\u001b[0m\u001b[0mself\u001b[0m\u001b[1;33m,\u001b[0m \u001b[0mname\u001b[0m\u001b[1;33m:\u001b[0m \u001b[0mstr\u001b[0m\u001b[1;33m)\u001b[0m\u001b[1;33m:\u001b[0m\u001b[1;33m\u001b[0m\u001b[1;33m\u001b[0m\u001b[0m\n\u001b[1;32m--> 501\u001b[1;33m         \u001b[0mself\u001b[0m\u001b[1;33m.\u001b[0m\u001b[0mraise_if_bad_sheet_by_name\u001b[0m\u001b[1;33m(\u001b[0m\u001b[0mname\u001b[0m\u001b[1;33m)\u001b[0m\u001b[1;33m\u001b[0m\u001b[1;33m\u001b[0m\u001b[0m\n\u001b[0m\u001b[0;32m    502\u001b[0m         \u001b[1;32mreturn\u001b[0m \u001b[0mself\u001b[0m\u001b[1;33m.\u001b[0m\u001b[0mbook\u001b[0m\u001b[1;33m[\u001b[0m\u001b[0mname\u001b[0m\u001b[1;33m]\u001b[0m\u001b[1;33m\u001b[0m\u001b[1;33m\u001b[0m\u001b[0m\n\u001b[0;32m    503\u001b[0m \u001b[1;33m\u001b[0m\u001b[0m\n",
      "\u001b[1;32mC:\\Cloud\\Portable\\WPy64\\python-3.7.7.amd64\\lib\\site-packages\\pandas\\io\\excel\\_base.py\u001b[0m in \u001b[0;36mraise_if_bad_sheet_by_name\u001b[1;34m(self, name)\u001b[0m\n\u001b[0;32m    435\u001b[0m     \u001b[1;32mdef\u001b[0m \u001b[0mraise_if_bad_sheet_by_name\u001b[0m\u001b[1;33m(\u001b[0m\u001b[0mself\u001b[0m\u001b[1;33m,\u001b[0m \u001b[0mname\u001b[0m\u001b[1;33m:\u001b[0m \u001b[0mstr\u001b[0m\u001b[1;33m)\u001b[0m \u001b[1;33m->\u001b[0m \u001b[1;32mNone\u001b[0m\u001b[1;33m:\u001b[0m\u001b[1;33m\u001b[0m\u001b[1;33m\u001b[0m\u001b[0m\n\u001b[0;32m    436\u001b[0m         \u001b[1;32mif\u001b[0m \u001b[0mname\u001b[0m \u001b[1;32mnot\u001b[0m \u001b[1;32min\u001b[0m \u001b[0mself\u001b[0m\u001b[1;33m.\u001b[0m\u001b[0msheet_names\u001b[0m\u001b[1;33m:\u001b[0m\u001b[1;33m\u001b[0m\u001b[1;33m\u001b[0m\u001b[0m\n\u001b[1;32m--> 437\u001b[1;33m             \u001b[1;32mraise\u001b[0m \u001b[0mValueError\u001b[0m\u001b[1;33m(\u001b[0m\u001b[1;34mf\"Worksheet named '{name}' not found\"\u001b[0m\u001b[1;33m)\u001b[0m\u001b[1;33m\u001b[0m\u001b[1;33m\u001b[0m\u001b[0m\n\u001b[0m\u001b[0;32m    438\u001b[0m \u001b[1;33m\u001b[0m\u001b[0m\n\u001b[0;32m    439\u001b[0m     def parse(\n",
      "\u001b[1;31mValueError\u001b[0m: Worksheet named 'simple' not found"
     ]
    }
   ],
   "source": [
    "# If the excel file does not have the expected sheet, we will get an error.\n",
    "simple = pd.read_excel('cuentas.xlsx', sheet_name='simple', usecols='b:f', parse_dates=[1], \n",
    "                       header=2, dtype={'Haber': str, 'Debe': str})"
   ]
  },
  {
   "cell_type": "code",
   "execution_count": 67,
   "metadata": {},
   "outputs": [
    {
     "data": {
      "text/plain": [
       "False"
      ]
     },
     "execution_count": 67,
     "metadata": {},
     "output_type": "execute_result"
    }
   ],
   "source": [
    "# using pd.ExcelFile\n",
    "s = pd.ExcelFile('cuentas.xlsx')\n",
    "'simple' in s.sheet_names"
   ]
  },
  {
   "cell_type": "code",
   "execution_count": 68,
   "metadata": {},
   "outputs": [
    {
     "data": {
      "text/plain": [
       "True"
      ]
     },
     "execution_count": 68,
     "metadata": {},
     "output_type": "execute_result"
    }
   ],
   "source": [
    "# using pd.ExcelFile to load a true sheet\n",
    "s = pd.ExcelFile('plantilla.xlsx')\n",
    "'simple' in s.sheet_names"
   ]
  },
  {
   "cell_type": "code",
   "execution_count": 69,
   "metadata": {},
   "outputs": [],
   "source": [
    "# using pd.ExcelFile to load a true sheet\n",
    "s = pd.ExcelFile('plantilla.xlsx')\n",
    "if 'simple' in s.sheet_names:\n",
    "    result = s.parse(sheet_name='simple', usecols='b:f', parse_dates=[1], \n",
    "                       header=2, dtype={'Haber': str, 'Debe': str})"
   ]
  },
  {
   "cell_type": "code",
   "execution_count": 72,
   "metadata": {},
   "outputs": [
    {
     "name": "stdout",
     "output_type": "stream",
     "text": [
      "<class 'pandas.core.frame.DataFrame'>\n",
      "RangeIndex: 5 entries, 0 to 4\n",
      "Data columns (total 5 columns):\n",
      " #   Column       Non-Null Count  Dtype         \n",
      "---  ------       --------------  -----         \n",
      " 0   Fecha        5 non-null      datetime64[ns]\n",
      " 1   Descripción  5 non-null      object        \n",
      " 2   Valor        5 non-null      float64       \n",
      " 3   Debe         5 non-null      object        \n",
      " 4   Haber        5 non-null      object        \n",
      "dtypes: datetime64[ns](1), float64(1), object(3)\n",
      "memory usage: 328.0+ bytes\n"
     ]
    }
   ],
   "source": [
    "result.info()"
   ]
  },
  {
   "cell_type": "code",
   "execution_count": 75,
   "metadata": {},
   "outputs": [
    {
     "name": "stdout",
     "output_type": "stream",
     "text": [
      "<class 'pandas.core.frame.DataFrame'>\n",
      "RangeIndex: 5 entries, 0 to 4\n",
      "Data columns (total 5 columns):\n",
      " #   Column       Non-Null Count  Dtype         \n",
      "---  ------       --------------  -----         \n",
      " 0   Fecha        5 non-null      datetime64[ns]\n",
      " 1   Descripción  5 non-null      object        \n",
      " 2   Valor        5 non-null      float64       \n",
      " 3   Debe         5 non-null      object        \n",
      " 4   Haber        5 non-null      object        \n",
      "dtypes: datetime64[ns](1), float64(1), object(3)\n",
      "memory usage: 328.0+ bytes\n"
     ]
    }
   ],
   "source": [
    "simple = pd.read_excel('plantilla.xlsx', sheet_name='simple', usecols='b:f', parse_dates=[1], \n",
    "                       header=2, dtype={'Haber': str, 'Debe': str})\n",
    "simple.info()"
   ]
  },
  {
   "cell_type": "code",
   "execution_count": 77,
   "metadata": {},
   "outputs": [
    {
     "data": {
      "text/plain": [
       "Index(['Fecha', 'Descripción', 'Valor', 'Debe', 'Haber'], dtype='object')"
      ]
     },
     "execution_count": 77,
     "metadata": {},
     "output_type": "execute_result"
    }
   ],
   "source": [
    "result.columns"
   ]
  },
  {
   "cell_type": "code",
   "execution_count": 79,
   "metadata": {},
   "outputs": [
    {
     "name": "stdout",
     "output_type": "stream",
     "text": [
      "<class 'pandas.core.frame.DataFrame'>\n",
      "Index: 0 entries\n",
      "Data columns (total 5 columns):\n",
      " #   Column       Non-Null Count  Dtype \n",
      "---  ------       --------------  ----- \n",
      " 0   Fecha        0 non-null      object\n",
      " 1   Descripción  0 non-null      object\n",
      " 2   Valor        0 non-null      object\n",
      " 3   Debe         0 non-null      object\n",
      " 4   Haber        0 non-null      object\n",
      "dtypes: object(5)\n",
      "memory usage: 0.0+ bytes\n"
     ]
    }
   ],
   "source": [
    "s = pd.DataFrame(columns=['Fecha', 'Descripción', 'Valor', 'Debe', 'Haber'])\n",
    "s.info()"
   ]
  },
  {
   "cell_type": "code",
   "execution_count": 80,
   "metadata": {},
   "outputs": [
    {
     "data": {
      "text/plain": [
       "Index(['id', 'Fecha', 'Descripción', 'Debe', 'Haber', 'Cuenta'], dtype='object')"
      ]
     },
     "execution_count": 80,
     "metadata": {},
     "output_type": "execute_result"
    }
   ],
   "source": [
    "compleja.columns"
   ]
  },
  {
   "cell_type": "code",
   "execution_count": null,
   "metadata": {},
   "outputs": [],
   "source": []
  }
 ],
 "metadata": {
  "kernelspec": {
   "display_name": "Python 3",
   "language": "python",
   "name": "python3"
  },
  "language_info": {
   "codemirror_mode": {
    "name": "ipython",
    "version": 3
   },
   "file_extension": ".py",
   "mimetype": "text/x-python",
   "name": "python",
   "nbconvert_exporter": "python",
   "pygments_lexer": "ipython3",
   "version": "3.7.7"
  }
 },
 "nbformat": 4,
 "nbformat_minor": 4
}
