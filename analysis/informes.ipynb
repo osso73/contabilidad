{
 "cells": [
  {
   "cell_type": "markdown",
   "metadata": {},
   "source": [
    "# Informes\n",
    "\n",
    "Vamos a experimentar un poco qué tipo de informes podemos generar. Tendré que crear una plantilla con suficientes entradas para poder generar informes. Pero lo puedo hacer más adelante, de momento puedo utilizar las plantillas que ya tengo."
   ]
  },
  {
   "cell_type": "code",
   "execution_count": 1,
   "metadata": {},
   "outputs": [],
   "source": [
    "import numpy as np\n",
    "import pandas as pd\n",
    "import seaborn as sns\n",
    "import matplotlib.pyplot as plt"
   ]
  },
  {
   "cell_type": "code",
   "execution_count": 2,
   "metadata": {},
   "outputs": [],
   "source": [
    "%matplotlib inline"
   ]
  },
  {
   "cell_type": "code",
   "execution_count": 3,
   "metadata": {},
   "outputs": [],
   "source": [
    "# creo una función para cargar la plantilla, con los parámetros adecuados\n",
    "def load_plantilla(file='plantilla_informes.xlsx'):\n",
    "    cuentas = pd.read_excel(file, sheet_name='Cuentas', usecols='f:h', header=3)\n",
    "    cuentas.columns=['num', 'nombre', 'tipo']\n",
    "    simple = pd.read_excel(file, sheet_name='simple', usecols='b:f', parse_dates=[1], header=2)\n",
    "    compleja = pd.read_excel(file, sheet_name='compleja', usecols='b:g', parse_dates=[2], header=2)\n",
    "\n",
    "    last = len(compleja)\n",
    "    asiento = compleja.id.max()\n",
    "    for line in range(len(simple)):\n",
    "        compleja.loc[last + 2*line, 'id'] = line + asiento + 1\n",
    "        compleja.loc[last + 2*line+1, 'id'] = line + asiento + 1\n",
    "        compleja.loc[last + 2*line, 'Fecha'] = simple.loc[line, 'Fecha']\n",
    "        compleja.loc[last + 2*line+1, 'Fecha'] = simple.loc[line, 'Fecha']\n",
    "        compleja.loc[last + 2*line, 'Descripción'] = simple.loc[line, 'Descripción']\n",
    "        compleja.loc[last + 2*line+1, 'Descripción'] = simple.loc[line, 'Descripción']\n",
    "        compleja.loc[last + 2*line, 'Debe'] = simple.loc[line, 'Valor']\n",
    "        compleja.loc[last + 2*line, 'Haber'] = 0\n",
    "        compleja.loc[last + 2*line, 'Cuenta'] = simple.loc[line, 'Debe']\n",
    "        compleja.loc[last + 2*line+1, 'Debe'] = 0\n",
    "        compleja.loc[last + 2*line+1, 'Haber'] = simple.loc[line, 'Valor']\n",
    "        compleja.loc[last + 2*line+1, 'Cuenta'] = simple.loc[line, 'Haber']\n",
    "        \n",
    "    return compleja, cuentas"
   ]
  },
  {
   "cell_type": "code",
   "execution_count": 4,
   "metadata": {},
   "outputs": [
    {
     "data": {
      "text/html": [
       "<div>\n",
       "<style scoped>\n",
       "    .dataframe tbody tr th:only-of-type {\n",
       "        vertical-align: middle;\n",
       "    }\n",
       "\n",
       "    .dataframe tbody tr th {\n",
       "        vertical-align: top;\n",
       "    }\n",
       "\n",
       "    .dataframe thead th {\n",
       "        text-align: right;\n",
       "    }\n",
       "</style>\n",
       "<table border=\"1\" class=\"dataframe\">\n",
       "  <thead>\n",
       "    <tr style=\"text-align: right;\">\n",
       "      <th></th>\n",
       "      <th>id</th>\n",
       "      <th>Fecha</th>\n",
       "      <th>Descripción</th>\n",
       "      <th>Debe</th>\n",
       "      <th>Haber</th>\n",
       "      <th>Cuenta</th>\n",
       "    </tr>\n",
       "  </thead>\n",
       "  <tbody>\n",
       "    <tr>\n",
       "      <th>130</th>\n",
       "      <td>54.0</td>\n",
       "      <td>2022-02-18</td>\n",
       "      <td>Compras Amazon</td>\n",
       "      <td>0.00</td>\n",
       "      <td>88.16</td>\n",
       "      <td>343.0</td>\n",
       "    </tr>\n",
       "    <tr>\n",
       "      <th>235</th>\n",
       "      <td>107.0</td>\n",
       "      <td>2022-05-13</td>\n",
       "      <td>Pizzas Telepizza</td>\n",
       "      <td>28.20</td>\n",
       "      <td>0.00</td>\n",
       "      <td>100.0</td>\n",
       "    </tr>\n",
       "    <tr>\n",
       "      <th>396</th>\n",
       "      <td>187.0</td>\n",
       "      <td>2022-09-14</td>\n",
       "      <td>Cervezas con amigos</td>\n",
       "      <td>0.00</td>\n",
       "      <td>17.78</td>\n",
       "      <td>310.0</td>\n",
       "    </tr>\n",
       "    <tr>\n",
       "      <th>179</th>\n",
       "      <td>79.0</td>\n",
       "      <td>2022-03-27</td>\n",
       "      <td>Compra super</td>\n",
       "      <td>124.83</td>\n",
       "      <td>0.00</td>\n",
       "      <td>1200.0</td>\n",
       "    </tr>\n",
       "    <tr>\n",
       "      <th>249</th>\n",
       "      <td>114.0</td>\n",
       "      <td>2022-05-22</td>\n",
       "      <td>Compra super</td>\n",
       "      <td>98.54</td>\n",
       "      <td>0.00</td>\n",
       "      <td>1200.0</td>\n",
       "    </tr>\n",
       "  </tbody>\n",
       "</table>\n",
       "</div>"
      ],
      "text/plain": [
       "        id      Fecha          Descripción    Debe  Haber  Cuenta\n",
       "130   54.0 2022-02-18       Compras Amazon    0.00  88.16   343.0\n",
       "235  107.0 2022-05-13     Pizzas Telepizza   28.20   0.00   100.0\n",
       "396  187.0 2022-09-14  Cervezas con amigos    0.00  17.78   310.0\n",
       "179   79.0 2022-03-27         Compra super  124.83   0.00  1200.0\n",
       "249  114.0 2022-05-22         Compra super   98.54   0.00  1200.0"
      ]
     },
     "execution_count": 4,
     "metadata": {},
     "output_type": "execute_result"
    }
   ],
   "source": [
    "movimientos, cuentas = load_plantilla()\n",
    "movimientos.sample(5)"
   ]
  },
  {
   "cell_type": "code",
   "execution_count": 5,
   "metadata": {},
   "outputs": [
    {
     "data": {
      "text/html": [
       "<div>\n",
       "<style scoped>\n",
       "    .dataframe tbody tr th:only-of-type {\n",
       "        vertical-align: middle;\n",
       "    }\n",
       "\n",
       "    .dataframe tbody tr th {\n",
       "        vertical-align: top;\n",
       "    }\n",
       "\n",
       "    .dataframe thead th {\n",
       "        text-align: right;\n",
       "    }\n",
       "</style>\n",
       "<table border=\"1\" class=\"dataframe\">\n",
       "  <thead>\n",
       "    <tr style=\"text-align: right;\">\n",
       "      <th></th>\n",
       "      <th>id</th>\n",
       "      <th>Fecha</th>\n",
       "      <th>Descripción</th>\n",
       "      <th>Debe</th>\n",
       "      <th>Haber</th>\n",
       "      <th>Cuenta</th>\n",
       "    </tr>\n",
       "  </thead>\n",
       "  <tbody>\n",
       "    <tr>\n",
       "      <th>355</th>\n",
       "      <td>167.0</td>\n",
       "      <td>2022-08-12</td>\n",
       "      <td>Pizzas Telepizza</td>\n",
       "      <td>28.44</td>\n",
       "      <td>0.0</td>\n",
       "      <td>100.0</td>\n",
       "    </tr>\n",
       "    <tr>\n",
       "      <th>435</th>\n",
       "      <td>207.0</td>\n",
       "      <td>2022-10-14</td>\n",
       "      <td>Pizzas Telepizza</td>\n",
       "      <td>27.72</td>\n",
       "      <td>0.0</td>\n",
       "      <td>100.0</td>\n",
       "    </tr>\n",
       "    <tr>\n",
       "      <th>357</th>\n",
       "      <td>168.0</td>\n",
       "      <td>2022-08-13</td>\n",
       "      <td>Cervezas con amigos</td>\n",
       "      <td>11.92</td>\n",
       "      <td>0.0</td>\n",
       "      <td>100.0</td>\n",
       "    </tr>\n",
       "    <tr>\n",
       "      <th>191</th>\n",
       "      <td>85.0</td>\n",
       "      <td>2022-04-07</td>\n",
       "      <td>Cervezas con amigos</td>\n",
       "      <td>14.72</td>\n",
       "      <td>0.0</td>\n",
       "      <td>100.0</td>\n",
       "    </tr>\n",
       "    <tr>\n",
       "      <th>211</th>\n",
       "      <td>95.0</td>\n",
       "      <td>2022-04-23</td>\n",
       "      <td>Cervezas con amigos</td>\n",
       "      <td>12.63</td>\n",
       "      <td>0.0</td>\n",
       "      <td>100.0</td>\n",
       "    </tr>\n",
       "  </tbody>\n",
       "</table>\n",
       "</div>"
      ],
      "text/plain": [
       "        id      Fecha          Descripción   Debe  Haber  Cuenta\n",
       "355  167.0 2022-08-12     Pizzas Telepizza  28.44    0.0   100.0\n",
       "435  207.0 2022-10-14     Pizzas Telepizza  27.72    0.0   100.0\n",
       "357  168.0 2022-08-13  Cervezas con amigos  11.92    0.0   100.0\n",
       "191   85.0 2022-04-07  Cervezas con amigos  14.72    0.0   100.0\n",
       "211   95.0 2022-04-23  Cervezas con amigos  12.63    0.0   100.0"
      ]
     },
     "execution_count": 5,
     "metadata": {},
     "output_type": "execute_result"
    }
   ],
   "source": [
    "movimientos[movimientos.Cuenta==100].sample(5)"
   ]
  },
  {
   "cell_type": "code",
   "execution_count": 6,
   "metadata": {},
   "outputs": [
    {
     "data": {
      "text/html": [
       "<div>\n",
       "<style scoped>\n",
       "    .dataframe tbody tr th:only-of-type {\n",
       "        vertical-align: middle;\n",
       "    }\n",
       "\n",
       "    .dataframe tbody tr th {\n",
       "        vertical-align: top;\n",
       "    }\n",
       "\n",
       "    .dataframe thead th {\n",
       "        text-align: right;\n",
       "    }\n",
       "</style>\n",
       "<table border=\"1\" class=\"dataframe\">\n",
       "  <thead>\n",
       "    <tr style=\"text-align: right;\">\n",
       "      <th></th>\n",
       "      <th>num</th>\n",
       "      <th>nombre</th>\n",
       "      <th>tipo</th>\n",
       "    </tr>\n",
       "  </thead>\n",
       "  <tbody>\n",
       "    <tr>\n",
       "      <th>42</th>\n",
       "      <td>43</td>\n",
       "      <td>Otros ingresos</td>\n",
       "      <td>ingreso</td>\n",
       "    </tr>\n",
       "    <tr>\n",
       "      <th>30</th>\n",
       "      <td>312</td>\n",
       "      <td>Comidas, cenas…</td>\n",
       "      <td>gasto</td>\n",
       "    </tr>\n",
       "    <tr>\n",
       "      <th>7</th>\n",
       "      <td>1300</td>\n",
       "      <td>Paypal</td>\n",
       "      <td>balance</td>\n",
       "    </tr>\n",
       "    <tr>\n",
       "      <th>32</th>\n",
       "      <td>324</td>\n",
       "      <td>Gastos coche</td>\n",
       "      <td>gasto</td>\n",
       "    </tr>\n",
       "    <tr>\n",
       "      <th>6</th>\n",
       "      <td>1210</td>\n",
       "      <td>Tarjeta prepago</td>\n",
       "      <td>balance</td>\n",
       "    </tr>\n",
       "  </tbody>\n",
       "</table>\n",
       "</div>"
      ],
      "text/plain": [
       "     num           nombre     tipo\n",
       "42    43   Otros ingresos  ingreso\n",
       "30   312  Comidas, cenas…    gasto\n",
       "7   1300           Paypal  balance\n",
       "32   324     Gastos coche    gasto\n",
       "6   1210  Tarjeta prepago  balance"
      ]
     },
     "execution_count": 6,
     "metadata": {},
     "output_type": "execute_result"
    }
   ],
   "source": [
    "cuentas.sample(5)"
   ]
  },
  {
   "cell_type": "code",
   "execution_count": 7,
   "metadata": {},
   "outputs": [
    {
     "data": {
      "text/html": [
       "<div>\n",
       "<style scoped>\n",
       "    .dataframe tbody tr th:only-of-type {\n",
       "        vertical-align: middle;\n",
       "    }\n",
       "\n",
       "    .dataframe tbody tr th {\n",
       "        vertical-align: top;\n",
       "    }\n",
       "\n",
       "    .dataframe thead th {\n",
       "        text-align: right;\n",
       "    }\n",
       "</style>\n",
       "<table border=\"1\" class=\"dataframe\">\n",
       "  <thead>\n",
       "    <tr style=\"text-align: right;\">\n",
       "      <th></th>\n",
       "      <th>id</th>\n",
       "      <th>Fecha</th>\n",
       "      <th>Descripción</th>\n",
       "      <th>Debe</th>\n",
       "      <th>Haber</th>\n",
       "      <th>Cuenta</th>\n",
       "      <th>nombre</th>\n",
       "      <th>tipo</th>\n",
       "    </tr>\n",
       "  </thead>\n",
       "  <tbody>\n",
       "    <tr>\n",
       "      <th>220</th>\n",
       "      <td>90.0</td>\n",
       "      <td>2022-04-17</td>\n",
       "      <td>Cena en el restaurante</td>\n",
       "      <td>78.28</td>\n",
       "      <td>0.00</td>\n",
       "      <td>1200.0</td>\n",
       "      <td>Tarjeta Visa</td>\n",
       "      <td>balance</td>\n",
       "    </tr>\n",
       "    <tr>\n",
       "      <th>94</th>\n",
       "      <td>242.0</td>\n",
       "      <td>2022-12-03</td>\n",
       "      <td>Cervezas con amigos</td>\n",
       "      <td>17.83</td>\n",
       "      <td>0.00</td>\n",
       "      <td>100.0</td>\n",
       "      <td>Caja</td>\n",
       "      <td>balance</td>\n",
       "    </tr>\n",
       "    <tr>\n",
       "      <th>17</th>\n",
       "      <td>58.0</td>\n",
       "      <td>2022-02-25</td>\n",
       "      <td>Pizzas Telepizza</td>\n",
       "      <td>23.40</td>\n",
       "      <td>0.00</td>\n",
       "      <td>100.0</td>\n",
       "      <td>Caja</td>\n",
       "      <td>balance</td>\n",
       "    </tr>\n",
       "    <tr>\n",
       "      <th>20</th>\n",
       "      <td>63.0</td>\n",
       "      <td>2022-03-06</td>\n",
       "      <td>Cervezas con amigos</td>\n",
       "      <td>10.62</td>\n",
       "      <td>0.00</td>\n",
       "      <td>100.0</td>\n",
       "      <td>Caja</td>\n",
       "      <td>balance</td>\n",
       "    </tr>\n",
       "    <tr>\n",
       "      <th>466</th>\n",
       "      <td>232.0</td>\n",
       "      <td>2022-11-20</td>\n",
       "      <td>Compra super</td>\n",
       "      <td>0.00</td>\n",
       "      <td>87.92</td>\n",
       "      <td>300.0</td>\n",
       "      <td>Comida</td>\n",
       "      <td>gasto</td>\n",
       "    </tr>\n",
       "  </tbody>\n",
       "</table>\n",
       "</div>"
      ],
      "text/plain": [
       "        id      Fecha             Descripción   Debe  Haber  Cuenta  \\\n",
       "220   90.0 2022-04-17  Cena en el restaurante  78.28   0.00  1200.0   \n",
       "94   242.0 2022-12-03     Cervezas con amigos  17.83   0.00   100.0   \n",
       "17    58.0 2022-02-25        Pizzas Telepizza  23.40   0.00   100.0   \n",
       "20    63.0 2022-03-06     Cervezas con amigos  10.62   0.00   100.0   \n",
       "466  232.0 2022-11-20            Compra super   0.00  87.92   300.0   \n",
       "\n",
       "           nombre     tipo  \n",
       "220  Tarjeta Visa  balance  \n",
       "94           Caja  balance  \n",
       "17           Caja  balance  \n",
       "20           Caja  balance  \n",
       "466        Comida    gasto  "
      ]
     },
     "execution_count": 7,
     "metadata": {},
     "output_type": "execute_result"
    }
   ],
   "source": [
    "merged = movimientos.merge(cuentas, left_on='Cuenta', right_on='num').drop(columns='num')\n",
    "merged.sample(5)"
   ]
  },
  {
   "cell_type": "code",
   "execution_count": 8,
   "metadata": {},
   "outputs": [
    {
     "data": {
      "text/html": [
       "<div>\n",
       "<style scoped>\n",
       "    .dataframe tbody tr th:only-of-type {\n",
       "        vertical-align: middle;\n",
       "    }\n",
       "\n",
       "    .dataframe tbody tr th {\n",
       "        vertical-align: top;\n",
       "    }\n",
       "\n",
       "    .dataframe thead th {\n",
       "        text-align: right;\n",
       "    }\n",
       "</style>\n",
       "<table border=\"1\" class=\"dataframe\">\n",
       "  <thead>\n",
       "    <tr style=\"text-align: right;\">\n",
       "      <th></th>\n",
       "      <th>Debe</th>\n",
       "      <th>Haber</th>\n",
       "      <th>Total</th>\n",
       "    </tr>\n",
       "    <tr>\n",
       "      <th>nombre</th>\n",
       "      <th></th>\n",
       "      <th></th>\n",
       "      <th></th>\n",
       "    </tr>\n",
       "  </thead>\n",
       "  <tbody>\n",
       "    <tr>\n",
       "      <th>Ajustes</th>\n",
       "      <td>0.00</td>\n",
       "      <td>92300.00</td>\n",
       "      <td>92300.00</td>\n",
       "    </tr>\n",
       "    <tr>\n",
       "      <th>Caja</th>\n",
       "      <td>1750.55</td>\n",
       "      <td>6257.65</td>\n",
       "      <td>4507.10</td>\n",
       "    </tr>\n",
       "    <tr>\n",
       "      <th>Comida</th>\n",
       "      <td>0.00</td>\n",
       "      <td>5379.61</td>\n",
       "      <td>5379.61</td>\n",
       "    </tr>\n",
       "    <tr>\n",
       "      <th>Comidas, cenas…</th>\n",
       "      <td>0.00</td>\n",
       "      <td>2334.83</td>\n",
       "      <td>2334.83</td>\n",
       "    </tr>\n",
       "    <tr>\n",
       "      <th>Comisiones, intereses</th>\n",
       "      <td>0.00</td>\n",
       "      <td>4725.00</td>\n",
       "      <td>4725.00</td>\n",
       "    </tr>\n",
       "    <tr>\n",
       "      <th>Cuenta ahorro</th>\n",
       "      <td>0.00</td>\n",
       "      <td>5000.00</td>\n",
       "      <td>5000.00</td>\n",
       "    </tr>\n",
       "    <tr>\n",
       "      <th>Cuenta nómina</th>\n",
       "      <td>21774.00</td>\n",
       "      <td>32000.00</td>\n",
       "      <td>10226.00</td>\n",
       "    </tr>\n",
       "    <tr>\n",
       "      <th>Deportes</th>\n",
       "      <td>0.00</td>\n",
       "      <td>43.00</td>\n",
       "      <td>43.00</td>\n",
       "    </tr>\n",
       "    <tr>\n",
       "      <th>Donaciones</th>\n",
       "      <td>0.00</td>\n",
       "      <td>240.00</td>\n",
       "      <td>240.00</td>\n",
       "    </tr>\n",
       "    <tr>\n",
       "      <th>Electricidad casa</th>\n",
       "      <td>0.00</td>\n",
       "      <td>180.00</td>\n",
       "      <td>180.00</td>\n",
       "    </tr>\n",
       "    <tr>\n",
       "      <th>Fondo inversión</th>\n",
       "      <td>0.00</td>\n",
       "      <td>500.00</td>\n",
       "      <td>500.00</td>\n",
       "    </tr>\n",
       "    <tr>\n",
       "      <th>Gas casa</th>\n",
       "      <td>0.00</td>\n",
       "      <td>720.00</td>\n",
       "      <td>720.00</td>\n",
       "    </tr>\n",
       "    <tr>\n",
       "      <th>Gastos coche</th>\n",
       "      <td>0.00</td>\n",
       "      <td>1209.00</td>\n",
       "      <td>1209.00</td>\n",
       "    </tr>\n",
       "    <tr>\n",
       "      <th>Hipoteca</th>\n",
       "      <td>100000.00</td>\n",
       "      <td>7275.00</td>\n",
       "      <td>-92725.00</td>\n",
       "    </tr>\n",
       "    <tr>\n",
       "      <th>IT / Electrónica</th>\n",
       "      <td>0.00</td>\n",
       "      <td>896.30</td>\n",
       "      <td>896.30</td>\n",
       "    </tr>\n",
       "    <tr>\n",
       "      <th>Impuestos casa</th>\n",
       "      <td>0.00</td>\n",
       "      <td>234.00</td>\n",
       "      <td>234.00</td>\n",
       "    </tr>\n",
       "    <tr>\n",
       "      <th>Intereses bancos</th>\n",
       "      <td>57.65</td>\n",
       "      <td>0.00</td>\n",
       "      <td>-57.65</td>\n",
       "    </tr>\n",
       "    <tr>\n",
       "      <th>Médicos</th>\n",
       "      <td>0.00</td>\n",
       "      <td>282.02</td>\n",
       "      <td>282.02</td>\n",
       "    </tr>\n",
       "    <tr>\n",
       "      <th>Nómina</th>\n",
       "      <td>30000.00</td>\n",
       "      <td>0.00</td>\n",
       "      <td>-30000.00</td>\n",
       "    </tr>\n",
       "    <tr>\n",
       "      <th>Refrescos, pinchos, etc</th>\n",
       "      <td>0.00</td>\n",
       "      <td>334.77</td>\n",
       "      <td>334.77</td>\n",
       "    </tr>\n",
       "    <tr>\n",
       "      <th>Ropa</th>\n",
       "      <td>0.00</td>\n",
       "      <td>133.99</td>\n",
       "      <td>133.99</td>\n",
       "    </tr>\n",
       "    <tr>\n",
       "      <th>Tarjeta Visa</th>\n",
       "      <td>8862.97</td>\n",
       "      <td>2400.00</td>\n",
       "      <td>-6462.97</td>\n",
       "    </tr>\n",
       "  </tbody>\n",
       "</table>\n",
       "</div>"
      ],
      "text/plain": [
       "                              Debe     Haber     Total\n",
       "nombre                                                \n",
       "Ajustes                       0.00  92300.00  92300.00\n",
       "Caja                       1750.55   6257.65   4507.10\n",
       "Comida                        0.00   5379.61   5379.61\n",
       "Comidas, cenas…               0.00   2334.83   2334.83\n",
       "Comisiones, intereses         0.00   4725.00   4725.00\n",
       "Cuenta ahorro                 0.00   5000.00   5000.00\n",
       "Cuenta nómina             21774.00  32000.00  10226.00\n",
       "Deportes                      0.00     43.00     43.00\n",
       "Donaciones                    0.00    240.00    240.00\n",
       "Electricidad casa             0.00    180.00    180.00\n",
       "Fondo inversión               0.00    500.00    500.00\n",
       "Gas casa                      0.00    720.00    720.00\n",
       "Gastos coche                  0.00   1209.00   1209.00\n",
       "Hipoteca                 100000.00   7275.00 -92725.00\n",
       "IT / Electrónica              0.00    896.30    896.30\n",
       "Impuestos casa                0.00    234.00    234.00\n",
       "Intereses bancos             57.65      0.00    -57.65\n",
       "Médicos                       0.00    282.02    282.02\n",
       "Nómina                    30000.00      0.00 -30000.00\n",
       "Refrescos, pinchos, etc       0.00    334.77    334.77\n",
       "Ropa                          0.00    133.99    133.99\n",
       "Tarjeta Visa               8862.97   2400.00  -6462.97"
      ]
     },
     "execution_count": 8,
     "metadata": {},
     "output_type": "execute_result"
    }
   ],
   "source": [
    "debe = merged.groupby('nombre').Debe.sum()\n",
    "haber = merged.groupby('nombre').Haber.sum()\n",
    "total = haber - debe\n",
    "total = total.rename('Total')\n",
    "df = pd.DataFrame(data = [debe, haber, total]).transpose()\n",
    "df"
   ]
  },
  {
   "cell_type": "code",
   "execution_count": 9,
   "metadata": {},
   "outputs": [
    {
     "data": {
      "text/html": [
       "<div>\n",
       "<style scoped>\n",
       "    .dataframe tbody tr th:only-of-type {\n",
       "        vertical-align: middle;\n",
       "    }\n",
       "\n",
       "    .dataframe tbody tr th {\n",
       "        vertical-align: top;\n",
       "    }\n",
       "\n",
       "    .dataframe thead th {\n",
       "        text-align: right;\n",
       "    }\n",
       "</style>\n",
       "<table border=\"1\" class=\"dataframe\">\n",
       "  <thead>\n",
       "    <tr style=\"text-align: right;\">\n",
       "      <th></th>\n",
       "      <th>id</th>\n",
       "      <th>Fecha</th>\n",
       "      <th>Descripción</th>\n",
       "      <th>Debe</th>\n",
       "      <th>Haber</th>\n",
       "      <th>Cuenta</th>\n",
       "      <th>nombre</th>\n",
       "      <th>tipo</th>\n",
       "    </tr>\n",
       "  </thead>\n",
       "  <tbody>\n",
       "    <tr>\n",
       "      <th>171</th>\n",
       "      <td>1.0</td>\n",
       "      <td>2022-01-01</td>\n",
       "      <td>Saldo inicial</td>\n",
       "      <td>100000.0</td>\n",
       "      <td>0.000000</td>\n",
       "      <td>150.0</td>\n",
       "      <td>Hipoteca</td>\n",
       "      <td>gasto</td>\n",
       "    </tr>\n",
       "    <tr>\n",
       "      <th>172</th>\n",
       "      <td>4.0</td>\n",
       "      <td>2022-01-30</td>\n",
       "      <td>Pago hipoteca</td>\n",
       "      <td>0.0</td>\n",
       "      <td>583.333333</td>\n",
       "      <td>150.0</td>\n",
       "      <td>Hipoteca</td>\n",
       "      <td>gasto</td>\n",
       "    </tr>\n",
       "    <tr>\n",
       "      <th>173</th>\n",
       "      <td>5.0</td>\n",
       "      <td>2022-02-28</td>\n",
       "      <td>Pago hipoteca</td>\n",
       "      <td>0.0</td>\n",
       "      <td>587.500000</td>\n",
       "      <td>150.0</td>\n",
       "      <td>Hipoteca</td>\n",
       "      <td>gasto</td>\n",
       "    </tr>\n",
       "    <tr>\n",
       "      <th>174</th>\n",
       "      <td>6.0</td>\n",
       "      <td>2022-03-30</td>\n",
       "      <td>Pago hipoteca</td>\n",
       "      <td>0.0</td>\n",
       "      <td>591.666667</td>\n",
       "      <td>150.0</td>\n",
       "      <td>Hipoteca</td>\n",
       "      <td>gasto</td>\n",
       "    </tr>\n",
       "    <tr>\n",
       "      <th>175</th>\n",
       "      <td>7.0</td>\n",
       "      <td>2022-04-30</td>\n",
       "      <td>Pago hipoteca</td>\n",
       "      <td>0.0</td>\n",
       "      <td>595.833333</td>\n",
       "      <td>150.0</td>\n",
       "      <td>Hipoteca</td>\n",
       "      <td>gasto</td>\n",
       "    </tr>\n",
       "    <tr>\n",
       "      <th>176</th>\n",
       "      <td>8.0</td>\n",
       "      <td>2022-05-30</td>\n",
       "      <td>Pago hipoteca</td>\n",
       "      <td>0.0</td>\n",
       "      <td>600.000000</td>\n",
       "      <td>150.0</td>\n",
       "      <td>Hipoteca</td>\n",
       "      <td>gasto</td>\n",
       "    </tr>\n",
       "    <tr>\n",
       "      <th>177</th>\n",
       "      <td>9.0</td>\n",
       "      <td>2022-06-30</td>\n",
       "      <td>Pago hipoteca</td>\n",
       "      <td>0.0</td>\n",
       "      <td>604.166667</td>\n",
       "      <td>150.0</td>\n",
       "      <td>Hipoteca</td>\n",
       "      <td>gasto</td>\n",
       "    </tr>\n",
       "    <tr>\n",
       "      <th>178</th>\n",
       "      <td>10.0</td>\n",
       "      <td>2022-07-30</td>\n",
       "      <td>Pago hipoteca</td>\n",
       "      <td>0.0</td>\n",
       "      <td>608.333333</td>\n",
       "      <td>150.0</td>\n",
       "      <td>Hipoteca</td>\n",
       "      <td>gasto</td>\n",
       "    </tr>\n",
       "    <tr>\n",
       "      <th>179</th>\n",
       "      <td>11.0</td>\n",
       "      <td>2022-08-30</td>\n",
       "      <td>Pago hipoteca</td>\n",
       "      <td>0.0</td>\n",
       "      <td>612.500000</td>\n",
       "      <td>150.0</td>\n",
       "      <td>Hipoteca</td>\n",
       "      <td>gasto</td>\n",
       "    </tr>\n",
       "    <tr>\n",
       "      <th>180</th>\n",
       "      <td>12.0</td>\n",
       "      <td>2022-09-30</td>\n",
       "      <td>Pago hipoteca</td>\n",
       "      <td>0.0</td>\n",
       "      <td>616.666667</td>\n",
       "      <td>150.0</td>\n",
       "      <td>Hipoteca</td>\n",
       "      <td>gasto</td>\n",
       "    </tr>\n",
       "    <tr>\n",
       "      <th>181</th>\n",
       "      <td>13.0</td>\n",
       "      <td>2022-10-30</td>\n",
       "      <td>Pago hipoteca</td>\n",
       "      <td>0.0</td>\n",
       "      <td>620.833333</td>\n",
       "      <td>150.0</td>\n",
       "      <td>Hipoteca</td>\n",
       "      <td>gasto</td>\n",
       "    </tr>\n",
       "    <tr>\n",
       "      <th>182</th>\n",
       "      <td>14.0</td>\n",
       "      <td>2022-11-30</td>\n",
       "      <td>Pago hipoteca</td>\n",
       "      <td>0.0</td>\n",
       "      <td>625.000000</td>\n",
       "      <td>150.0</td>\n",
       "      <td>Hipoteca</td>\n",
       "      <td>gasto</td>\n",
       "    </tr>\n",
       "    <tr>\n",
       "      <th>183</th>\n",
       "      <td>15.0</td>\n",
       "      <td>2022-12-30</td>\n",
       "      <td>Pago hipoteca</td>\n",
       "      <td>0.0</td>\n",
       "      <td>629.166667</td>\n",
       "      <td>150.0</td>\n",
       "      <td>Hipoteca</td>\n",
       "      <td>gasto</td>\n",
       "    </tr>\n",
       "  </tbody>\n",
       "</table>\n",
       "</div>"
      ],
      "text/plain": [
       "       id      Fecha    Descripción      Debe       Haber  Cuenta    nombre  \\\n",
       "171   1.0 2022-01-01  Saldo inicial  100000.0    0.000000   150.0  Hipoteca   \n",
       "172   4.0 2022-01-30  Pago hipoteca       0.0  583.333333   150.0  Hipoteca   \n",
       "173   5.0 2022-02-28  Pago hipoteca       0.0  587.500000   150.0  Hipoteca   \n",
       "174   6.0 2022-03-30  Pago hipoteca       0.0  591.666667   150.0  Hipoteca   \n",
       "175   7.0 2022-04-30  Pago hipoteca       0.0  595.833333   150.0  Hipoteca   \n",
       "176   8.0 2022-05-30  Pago hipoteca       0.0  600.000000   150.0  Hipoteca   \n",
       "177   9.0 2022-06-30  Pago hipoteca       0.0  604.166667   150.0  Hipoteca   \n",
       "178  10.0 2022-07-30  Pago hipoteca       0.0  608.333333   150.0  Hipoteca   \n",
       "179  11.0 2022-08-30  Pago hipoteca       0.0  612.500000   150.0  Hipoteca   \n",
       "180  12.0 2022-09-30  Pago hipoteca       0.0  616.666667   150.0  Hipoteca   \n",
       "181  13.0 2022-10-30  Pago hipoteca       0.0  620.833333   150.0  Hipoteca   \n",
       "182  14.0 2022-11-30  Pago hipoteca       0.0  625.000000   150.0  Hipoteca   \n",
       "183  15.0 2022-12-30  Pago hipoteca       0.0  629.166667   150.0  Hipoteca   \n",
       "\n",
       "      tipo  \n",
       "171  gasto  \n",
       "172  gasto  \n",
       "173  gasto  \n",
       "174  gasto  \n",
       "175  gasto  \n",
       "176  gasto  \n",
       "177  gasto  \n",
       "178  gasto  \n",
       "179  gasto  \n",
       "180  gasto  \n",
       "181  gasto  \n",
       "182  gasto  \n",
       "183  gasto  "
      ]
     },
     "execution_count": 9,
     "metadata": {},
     "output_type": "execute_result"
    }
   ],
   "source": [
    "hipoteca = merged[merged.nombre=='Hipoteca']\n",
    "hipoteca"
   ]
  },
  {
   "cell_type": "code",
   "execution_count": 10,
   "metadata": {},
   "outputs": [
    {
     "data": {
      "text/plain": [
       "<matplotlib.axes._subplots.AxesSubplot at 0x212d1335e08>"
      ]
     },
     "execution_count": 10,
     "metadata": {},
     "output_type": "execute_result"
    },
    {
     "data": {
      "image/png": "[encoded data removed]",
      "text/plain": [
       "<Figure size 432x288 with 1 Axes>"
      ]
     },
     "metadata": {
      "needs_background": "light"
     },
     "output_type": "display_data"
    }
   ],
   "source": [
    "hipoteca.plot.bar(x='Fecha', y='Haber')"
   ]
  },
  {
   "cell_type": "code",
   "execution_count": 11,
   "metadata": {},
   "outputs": [
    {
     "data": {
      "text/plain": [
       "<matplotlib.axes._subplots.AxesSubplot at 0x212d2746b08>"
      ]
     },
     "execution_count": 11,
     "metadata": {},
     "output_type": "execute_result"
    },
    {
     "data": {
      "image/png": "[encoded data removed]",
      "text/plain": [
       "<Figure size 432x288 with 1 Axes>"
      ]
     },
     "metadata": {
      "needs_background": "light"
     },
     "output_type": "display_data"
    }
   ],
   "source": [
    "nomina = merged[merged.nombre=='Cuenta nómina']\n",
    "nomina.groupby(nomina.Fecha.dt.month)[['Debe', 'Haber']].sum().plot.bar()"
   ]
  },
  {
   "cell_type": "code",
   "execution_count": 12,
   "metadata": {},
   "outputs": [
    {
     "data": {
      "text/html": [
       "<div>\n",
       "<style scoped>\n",
       "    .dataframe tbody tr th:only-of-type {\n",
       "        vertical-align: middle;\n",
       "    }\n",
       "\n",
       "    .dataframe tbody tr th {\n",
       "        vertical-align: top;\n",
       "    }\n",
       "\n",
       "    .dataframe thead th {\n",
       "        text-align: right;\n",
       "    }\n",
       "</style>\n",
       "<table border=\"1\" class=\"dataframe\">\n",
       "  <thead>\n",
       "    <tr style=\"text-align: right;\">\n",
       "      <th></th>\n",
       "      <th>Debe</th>\n",
       "      <th>Haber</th>\n",
       "    </tr>\n",
       "    <tr>\n",
       "      <th>Fecha</th>\n",
       "      <th></th>\n",
       "      <th></th>\n",
       "    </tr>\n",
       "  </thead>\n",
       "  <tbody>\n",
       "    <tr>\n",
       "      <th>1</th>\n",
       "      <td>1870.0</td>\n",
       "      <td>4500.0</td>\n",
       "    </tr>\n",
       "    <tr>\n",
       "      <th>2</th>\n",
       "      <td>1720.0</td>\n",
       "      <td>2500.0</td>\n",
       "    </tr>\n",
       "    <tr>\n",
       "      <th>3</th>\n",
       "      <td>1870.0</td>\n",
       "      <td>2500.0</td>\n",
       "    </tr>\n",
       "    <tr>\n",
       "      <th>4</th>\n",
       "      <td>1720.0</td>\n",
       "      <td>2500.0</td>\n",
       "    </tr>\n",
       "    <tr>\n",
       "      <th>5</th>\n",
       "      <td>1870.0</td>\n",
       "      <td>2500.0</td>\n",
       "    </tr>\n",
       "    <tr>\n",
       "      <th>6</th>\n",
       "      <td>1954.0</td>\n",
       "      <td>2500.0</td>\n",
       "    </tr>\n",
       "    <tr>\n",
       "      <th>7</th>\n",
       "      <td>1870.0</td>\n",
       "      <td>2500.0</td>\n",
       "    </tr>\n",
       "    <tr>\n",
       "      <th>8</th>\n",
       "      <td>1720.0</td>\n",
       "      <td>2500.0</td>\n",
       "    </tr>\n",
       "    <tr>\n",
       "      <th>9</th>\n",
       "      <td>1870.0</td>\n",
       "      <td>2500.0</td>\n",
       "    </tr>\n",
       "    <tr>\n",
       "      <th>10</th>\n",
       "      <td>1720.0</td>\n",
       "      <td>2500.0</td>\n",
       "    </tr>\n",
       "    <tr>\n",
       "      <th>11</th>\n",
       "      <td>1870.0</td>\n",
       "      <td>2500.0</td>\n",
       "    </tr>\n",
       "    <tr>\n",
       "      <th>12</th>\n",
       "      <td>1720.0</td>\n",
       "      <td>2500.0</td>\n",
       "    </tr>\n",
       "  </tbody>\n",
       "</table>\n",
       "</div>"
      ],
      "text/plain": [
       "         Debe   Haber\n",
       "Fecha                \n",
       "1      1870.0  4500.0\n",
       "2      1720.0  2500.0\n",
       "3      1870.0  2500.0\n",
       "4      1720.0  2500.0\n",
       "5      1870.0  2500.0\n",
       "6      1954.0  2500.0\n",
       "7      1870.0  2500.0\n",
       "8      1720.0  2500.0\n",
       "9      1870.0  2500.0\n",
       "10     1720.0  2500.0\n",
       "11     1870.0  2500.0\n",
       "12     1720.0  2500.0"
      ]
     },
     "execution_count": 12,
     "metadata": {},
     "output_type": "execute_result"
    }
   ],
   "source": [
    "data = nomina.groupby(nomina.Fecha.dt.month)[['Debe', 'Haber']].sum()\n",
    "data"
   ]
  },
  {
   "cell_type": "code",
   "execution_count": 13,
   "metadata": {},
   "outputs": [
    {
     "data": {
      "text/plain": [
       "<seaborn.axisgrid.FacetGrid at 0x212d26f0448>"
      ]
     },
     "execution_count": 13,
     "metadata": {},
     "output_type": "execute_result"
    },
    {
     "data": {
      "image/png": "[encoded data removed]",
      "text/plain": [
       "<Figure size 426.125x360 with 1 Axes>"
      ]
     },
     "metadata": {
      "needs_background": "light"
     },
     "output_type": "display_data"
    }
   ],
   "source": [
    "sns.relplot(data=data)"
   ]
  },
  {
   "cell_type": "code",
   "execution_count": 14,
   "metadata": {},
   "outputs": [
    {
     "data": {
      "text/plain": [
       "<matplotlib.axes._subplots.AxesSubplot at 0x212d2861748>"
      ]
     },
     "execution_count": 14,
     "metadata": {},
     "output_type": "execute_result"
    },
    {
     "data": {
      "image/png": "[encoded data removed]",
      "text/plain": [
       "<Figure size 432x288 with 1 Axes>"
      ]
     },
     "metadata": {
      "needs_background": "light"
     },
     "output_type": "display_data"
    }
   ],
   "source": [
    "merged[merged.nombre=='Tarjeta Visa'].groupby(merged.Fecha.dt.month)[['Debe', 'Haber']].sum().plot.bar()"
   ]
  },
  {
   "cell_type": "code",
   "execution_count": 15,
   "metadata": {},
   "outputs": [
    {
     "data": {
      "text/html": [
       "<div>\n",
       "<style scoped>\n",
       "    .dataframe tbody tr th:only-of-type {\n",
       "        vertical-align: middle;\n",
       "    }\n",
       "\n",
       "    .dataframe tbody tr th {\n",
       "        vertical-align: top;\n",
       "    }\n",
       "\n",
       "    .dataframe thead th {\n",
       "        text-align: right;\n",
       "    }\n",
       "</style>\n",
       "<table border=\"1\" class=\"dataframe\">\n",
       "  <thead>\n",
       "    <tr style=\"text-align: right;\">\n",
       "      <th></th>\n",
       "      <th>id</th>\n",
       "      <th>Fecha</th>\n",
       "      <th>Descripción</th>\n",
       "      <th>Debe</th>\n",
       "      <th>Haber</th>\n",
       "      <th>Cuenta</th>\n",
       "      <th>nombre</th>\n",
       "      <th>tipo</th>\n",
       "    </tr>\n",
       "  </thead>\n",
       "  <tbody>\n",
       "    <tr>\n",
       "      <th>0</th>\n",
       "      <td>1.0</td>\n",
       "      <td>2022-01-01</td>\n",
       "      <td>Saldo inicial</td>\n",
       "      <td>0.00</td>\n",
       "      <td>200.00</td>\n",
       "      <td>100.0</td>\n",
       "      <td>Caja</td>\n",
       "      <td>balance</td>\n",
       "    </tr>\n",
       "    <tr>\n",
       "      <th>1</th>\n",
       "      <td>2.0</td>\n",
       "      <td>2022-12-03</td>\n",
       "      <td>Cena en el restaurante propina</td>\n",
       "      <td>3.00</td>\n",
       "      <td>0.00</td>\n",
       "      <td>100.0</td>\n",
       "      <td>Caja</td>\n",
       "      <td>balance</td>\n",
       "    </tr>\n",
       "    <tr>\n",
       "      <th>2</th>\n",
       "      <td>21.0</td>\n",
       "      <td>2022-01-01</td>\n",
       "      <td>Intereses</td>\n",
       "      <td>0.00</td>\n",
       "      <td>5.31</td>\n",
       "      <td>100.0</td>\n",
       "      <td>Caja</td>\n",
       "      <td>balance</td>\n",
       "    </tr>\n",
       "    <tr>\n",
       "      <th>3</th>\n",
       "      <td>22.0</td>\n",
       "      <td>2022-01-02</td>\n",
       "      <td>Pizzas Telepizza</td>\n",
       "      <td>32.76</td>\n",
       "      <td>0.00</td>\n",
       "      <td>100.0</td>\n",
       "      <td>Caja</td>\n",
       "      <td>balance</td>\n",
       "    </tr>\n",
       "    <tr>\n",
       "      <th>4</th>\n",
       "      <td>25.0</td>\n",
       "      <td>2022-01-11</td>\n",
       "      <td>Compra pan</td>\n",
       "      <td>2.54</td>\n",
       "      <td>0.00</td>\n",
       "      <td>100.0</td>\n",
       "      <td>Caja</td>\n",
       "      <td>balance</td>\n",
       "    </tr>\n",
       "  </tbody>\n",
       "</table>\n",
       "</div>"
      ],
      "text/plain": [
       "     id      Fecha                     Descripción   Debe   Haber  Cuenta  \\\n",
       "0   1.0 2022-01-01                   Saldo inicial   0.00  200.00   100.0   \n",
       "1   2.0 2022-12-03  Cena en el restaurante propina   3.00    0.00   100.0   \n",
       "2  21.0 2022-01-01                       Intereses   0.00    5.31   100.0   \n",
       "3  22.0 2022-01-02                Pizzas Telepizza  32.76    0.00   100.0   \n",
       "4  25.0 2022-01-11                      Compra pan   2.54    0.00   100.0   \n",
       "\n",
       "  nombre     tipo  \n",
       "0   Caja  balance  \n",
       "1   Caja  balance  \n",
       "2   Caja  balance  \n",
       "3   Caja  balance  \n",
       "4   Caja  balance  "
      ]
     },
     "execution_count": 15,
     "metadata": {},
     "output_type": "execute_result"
    }
   ],
   "source": [
    "merged.head()"
   ]
  },
  {
   "cell_type": "code",
   "execution_count": 16,
   "metadata": {},
   "outputs": [],
   "source": [
    "new = merged.set_index('Fecha')"
   ]
  },
  {
   "cell_type": "code",
   "execution_count": 17,
   "metadata": {},
   "outputs": [
    {
     "data": {
      "text/html": [
       "<div>\n",
       "<style scoped>\n",
       "    .dataframe tbody tr th:only-of-type {\n",
       "        vertical-align: middle;\n",
       "    }\n",
       "\n",
       "    .dataframe tbody tr th {\n",
       "        vertical-align: top;\n",
       "    }\n",
       "\n",
       "    .dataframe thead th {\n",
       "        text-align: right;\n",
       "    }\n",
       "</style>\n",
       "<table border=\"1\" class=\"dataframe\">\n",
       "  <thead>\n",
       "    <tr style=\"text-align: right;\">\n",
       "      <th></th>\n",
       "      <th>id</th>\n",
       "      <th>Descripción</th>\n",
       "      <th>Debe</th>\n",
       "      <th>Haber</th>\n",
       "      <th>Cuenta</th>\n",
       "      <th>nombre</th>\n",
       "      <th>tipo</th>\n",
       "    </tr>\n",
       "    <tr>\n",
       "      <th>Fecha</th>\n",
       "      <th></th>\n",
       "      <th></th>\n",
       "      <th></th>\n",
       "      <th></th>\n",
       "      <th></th>\n",
       "      <th></th>\n",
       "      <th></th>\n",
       "    </tr>\n",
       "  </thead>\n",
       "  <tbody>\n",
       "    <tr>\n",
       "      <th>2022-01-01</th>\n",
       "      <td>1.0</td>\n",
       "      <td>Saldo inicial</td>\n",
       "      <td>0.00</td>\n",
       "      <td>200.00</td>\n",
       "      <td>100.0</td>\n",
       "      <td>Caja</td>\n",
       "      <td>balance</td>\n",
       "    </tr>\n",
       "    <tr>\n",
       "      <th>2022-12-03</th>\n",
       "      <td>2.0</td>\n",
       "      <td>Cena en el restaurante propina</td>\n",
       "      <td>3.00</td>\n",
       "      <td>0.00</td>\n",
       "      <td>100.0</td>\n",
       "      <td>Caja</td>\n",
       "      <td>balance</td>\n",
       "    </tr>\n",
       "    <tr>\n",
       "      <th>2022-01-01</th>\n",
       "      <td>21.0</td>\n",
       "      <td>Intereses</td>\n",
       "      <td>0.00</td>\n",
       "      <td>5.31</td>\n",
       "      <td>100.0</td>\n",
       "      <td>Caja</td>\n",
       "      <td>balance</td>\n",
       "    </tr>\n",
       "    <tr>\n",
       "      <th>2022-01-02</th>\n",
       "      <td>22.0</td>\n",
       "      <td>Pizzas Telepizza</td>\n",
       "      <td>32.76</td>\n",
       "      <td>0.00</td>\n",
       "      <td>100.0</td>\n",
       "      <td>Caja</td>\n",
       "      <td>balance</td>\n",
       "    </tr>\n",
       "    <tr>\n",
       "      <th>2022-01-11</th>\n",
       "      <td>25.0</td>\n",
       "      <td>Compra pan</td>\n",
       "      <td>2.54</td>\n",
       "      <td>0.00</td>\n",
       "      <td>100.0</td>\n",
       "      <td>Caja</td>\n",
       "      <td>balance</td>\n",
       "    </tr>\n",
       "    <tr>\n",
       "      <th>...</th>\n",
       "      <td>...</td>\n",
       "      <td>...</td>\n",
       "      <td>...</td>\n",
       "      <td>...</td>\n",
       "      <td>...</td>\n",
       "      <td>...</td>\n",
       "      <td>...</td>\n",
       "    </tr>\n",
       "    <tr>\n",
       "      <th>2022-09-25</th>\n",
       "      <td>197.0</td>\n",
       "      <td>Nómina</td>\n",
       "      <td>2500.00</td>\n",
       "      <td>0.00</td>\n",
       "      <td>400.0</td>\n",
       "      <td>Nómina</td>\n",
       "      <td>ingreso</td>\n",
       "    </tr>\n",
       "    <tr>\n",
       "      <th>2022-10-25</th>\n",
       "      <td>215.0</td>\n",
       "      <td>Nómina</td>\n",
       "      <td>2500.00</td>\n",
       "      <td>0.00</td>\n",
       "      <td>400.0</td>\n",
       "      <td>Nómina</td>\n",
       "      <td>ingreso</td>\n",
       "    </tr>\n",
       "    <tr>\n",
       "      <th>2022-11-25</th>\n",
       "      <td>233.0</td>\n",
       "      <td>Nómina</td>\n",
       "      <td>2500.00</td>\n",
       "      <td>0.00</td>\n",
       "      <td>400.0</td>\n",
       "      <td>Nómina</td>\n",
       "      <td>ingreso</td>\n",
       "    </tr>\n",
       "    <tr>\n",
       "      <th>2022-12-25</th>\n",
       "      <td>255.0</td>\n",
       "      <td>Nómina</td>\n",
       "      <td>2500.00</td>\n",
       "      <td>0.00</td>\n",
       "      <td>400.0</td>\n",
       "      <td>Nómina</td>\n",
       "      <td>ingreso</td>\n",
       "    </tr>\n",
       "    <tr>\n",
       "      <th>2022-06-05</th>\n",
       "      <td>125.0</td>\n",
       "      <td>Pago IBI</td>\n",
       "      <td>0.00</td>\n",
       "      <td>234.00</td>\n",
       "      <td>203.0</td>\n",
       "      <td>Impuestos casa</td>\n",
       "      <td>gasto</td>\n",
       "    </tr>\n",
       "  </tbody>\n",
       "</table>\n",
       "<p>541 rows × 7 columns</p>\n",
       "</div>"
      ],
      "text/plain": [
       "               id                     Descripción     Debe   Haber  Cuenta  \\\n",
       "Fecha                                                                        \n",
       "2022-01-01    1.0                   Saldo inicial     0.00  200.00   100.0   \n",
       "2022-12-03    2.0  Cena en el restaurante propina     3.00    0.00   100.0   \n",
       "2022-01-01   21.0                       Intereses     0.00    5.31   100.0   \n",
       "2022-01-02   22.0                Pizzas Telepizza    32.76    0.00   100.0   \n",
       "2022-01-11   25.0                      Compra pan     2.54    0.00   100.0   \n",
       "...           ...                             ...      ...     ...     ...   \n",
       "2022-09-25  197.0                          Nómina  2500.00    0.00   400.0   \n",
       "2022-10-25  215.0                          Nómina  2500.00    0.00   400.0   \n",
       "2022-11-25  233.0                          Nómina  2500.00    0.00   400.0   \n",
       "2022-12-25  255.0                          Nómina  2500.00    0.00   400.0   \n",
       "2022-06-05  125.0                        Pago IBI     0.00  234.00   203.0   \n",
       "\n",
       "                    nombre     tipo  \n",
       "Fecha                                \n",
       "2022-01-01            Caja  balance  \n",
       "2022-12-03            Caja  balance  \n",
       "2022-01-01            Caja  balance  \n",
       "2022-01-02            Caja  balance  \n",
       "2022-01-11            Caja  balance  \n",
       "...                    ...      ...  \n",
       "2022-09-25          Nómina  ingreso  \n",
       "2022-10-25          Nómina  ingreso  \n",
       "2022-11-25          Nómina  ingreso  \n",
       "2022-12-25          Nómina  ingreso  \n",
       "2022-06-05  Impuestos casa    gasto  \n",
       "\n",
       "[541 rows x 7 columns]"
      ]
     },
     "execution_count": 17,
     "metadata": {},
     "output_type": "execute_result"
    }
   ],
   "source": [
    "new"
   ]
  },
  {
   "cell_type": "code",
   "execution_count": 18,
   "metadata": {},
   "outputs": [
    {
     "data": {
      "text/html": [
       "<div>\n",
       "<style scoped>\n",
       "    .dataframe tbody tr th:only-of-type {\n",
       "        vertical-align: middle;\n",
       "    }\n",
       "\n",
       "    .dataframe tbody tr th {\n",
       "        vertical-align: top;\n",
       "    }\n",
       "\n",
       "    .dataframe thead th {\n",
       "        text-align: right;\n",
       "    }\n",
       "</style>\n",
       "<table border=\"1\" class=\"dataframe\">\n",
       "  <thead>\n",
       "    <tr style=\"text-align: right;\">\n",
       "      <th></th>\n",
       "      <th>Debe</th>\n",
       "      <th>Haber</th>\n",
       "    </tr>\n",
       "    <tr>\n",
       "      <th>Fecha</th>\n",
       "      <th></th>\n",
       "      <th></th>\n",
       "    </tr>\n",
       "  </thead>\n",
       "  <tbody>\n",
       "    <tr>\n",
       "      <th>2022-01-31</th>\n",
       "      <td>100000.0</td>\n",
       "      <td>2213.02</td>\n",
       "    </tr>\n",
       "    <tr>\n",
       "      <th>2022-02-28</th>\n",
       "      <td>0.0</td>\n",
       "      <td>1816.36</td>\n",
       "    </tr>\n",
       "    <tr>\n",
       "      <th>2022-03-31</th>\n",
       "      <td>0.0</td>\n",
       "      <td>2046.98</td>\n",
       "    </tr>\n",
       "    <tr>\n",
       "      <th>2022-04-30</th>\n",
       "      <td>0.0</td>\n",
       "      <td>1908.02</td>\n",
       "    </tr>\n",
       "    <tr>\n",
       "      <th>2022-05-31</th>\n",
       "      <td>0.0</td>\n",
       "      <td>1964.04</td>\n",
       "    </tr>\n",
       "    <tr>\n",
       "      <th>2022-06-30</th>\n",
       "      <td>0.0</td>\n",
       "      <td>2222.82</td>\n",
       "    </tr>\n",
       "    <tr>\n",
       "      <th>2022-07-31</th>\n",
       "      <td>0.0</td>\n",
       "      <td>2087.65</td>\n",
       "    </tr>\n",
       "    <tr>\n",
       "      <th>2022-08-31</th>\n",
       "      <td>0.0</td>\n",
       "      <td>1840.95</td>\n",
       "    </tr>\n",
       "    <tr>\n",
       "      <th>2022-09-30</th>\n",
       "      <td>0.0</td>\n",
       "      <td>2052.46</td>\n",
       "    </tr>\n",
       "    <tr>\n",
       "      <th>2022-10-31</th>\n",
       "      <td>0.0</td>\n",
       "      <td>1888.30</td>\n",
       "    </tr>\n",
       "    <tr>\n",
       "      <th>2022-11-30</th>\n",
       "      <td>0.0</td>\n",
       "      <td>1987.52</td>\n",
       "    </tr>\n",
       "    <tr>\n",
       "      <th>2022-12-31</th>\n",
       "      <td>0.0</td>\n",
       "      <td>1959.40</td>\n",
       "    </tr>\n",
       "  </tbody>\n",
       "</table>\n",
       "</div>"
      ],
      "text/plain": [
       "                Debe    Haber\n",
       "Fecha                        \n",
       "2022-01-31  100000.0  2213.02\n",
       "2022-02-28       0.0  1816.36\n",
       "2022-03-31       0.0  2046.98\n",
       "2022-04-30       0.0  1908.02\n",
       "2022-05-31       0.0  1964.04\n",
       "2022-06-30       0.0  2222.82\n",
       "2022-07-31       0.0  2087.65\n",
       "2022-08-31       0.0  1840.95\n",
       "2022-09-30       0.0  2052.46\n",
       "2022-10-31       0.0  1888.30\n",
       "2022-11-30       0.0  1987.52\n",
       "2022-12-31       0.0  1959.40"
      ]
     },
     "execution_count": 18,
     "metadata": {},
     "output_type": "execute_result"
    }
   ],
   "source": [
    "gastos = new[new.tipo=='gasto'].resample('M').sum().drop(columns=['id', 'Cuenta'])\n",
    "gastos"
   ]
  },
  {
   "cell_type": "code",
   "execution_count": 19,
   "metadata": {},
   "outputs": [
    {
     "data": {
      "text/plain": [
       "<matplotlib.axes._subplots.AxesSubplot at 0x212d1db5dc8>"
      ]
     },
     "execution_count": 19,
     "metadata": {},
     "output_type": "execute_result"
    },
    {
     "data": {
      "image/png": "[encoded data removed]",
      "text/plain": [
       "<Figure size 432x288 with 1 Axes>"
      ]
     },
     "metadata": {
      "needs_background": "light"
     },
     "output_type": "display_data"
    }
   ],
   "source": [
    "gastos.Haber.plot.bar()"
   ]
  },
  {
   "cell_type": "code",
   "execution_count": 20,
   "metadata": {},
   "outputs": [
    {
     "data": {
      "text/plain": [
       "Text(0, 0.5, 'euros')"
      ]
     },
     "execution_count": 20,
     "metadata": {},
     "output_type": "execute_result"
    },
    {
     "data": {
      "image/png": "[encoded data removed]",
      "text/plain": [
       "<Figure size 792x288 with 1 Axes>"
      ]
     },
     "metadata": {},
     "output_type": "display_data"
    }
   ],
   "source": [
    "meses = ['Enero', 'Febrero', 'Marzo', 'Abril', 'Mayo', 'Junio', 'Julio', 'Agosto', 'Septiembre', 'Octubre', 'Noviembre', 'Diciembre']\n",
    "sns.set_theme(palette='dark', rc={'figure.figsize':(11, 4)})\n",
    "fig, ax = plt.subplots()  # Create a figure and an axes.\n",
    "gastos.Haber.plot.bar(xlabel='Mes', ax=ax)\n",
    "ax.set_xticklabels(meses)\n",
    "ax.set_title('Gastos')\n",
    "ax.set_xlabel('Mes')\n",
    "ax.set_ylabel('euros')"
   ]
  },
  {
   "cell_type": "code",
   "execution_count": 21,
   "metadata": {},
   "outputs": [
    {
     "data": {
      "text/plain": [
       "Text(0, 0.5, 'euros')"
      ]
     },
     "execution_count": 21,
     "metadata": {},
     "output_type": "execute_result"
    },
    {
     "data": {
      "image/png": "[encoded data removed]",
      "text/plain": [
       "<Figure size 792x288 with 1 Axes>"
      ]
     },
     "metadata": {},
     "output_type": "display_data"
    }
   ],
   "source": [
    "fig, ax = plt.subplots()  # Create a figure and an axes.\n",
    "sns.barplot(y=gastos.Haber, x=gastos.index, ax=ax)\n",
    "ax.set_xticklabels(meses)\n",
    "ax.set_title('Gastos')\n",
    "ax.set_xlabel('Mes')\n",
    "ax.set_ylabel('euros')"
   ]
  },
  {
   "cell_type": "code",
   "execution_count": 22,
   "metadata": {
    "scrolled": false
   },
   "outputs": [
    {
     "data": {
      "text/plain": [
       "Text(0, 0.5, 'euros')"
      ]
     },
     "execution_count": 22,
     "metadata": {},
     "output_type": "execute_result"
    },
    {
     "data": {
      "image/png": "[encoded data removed]",
      "text/plain": [
       "<Figure size 792x288 with 1 Axes>"
      ]
     },
     "metadata": {},
     "output_type": "display_data"
    }
   ],
   "source": [
    "dias_semana = ['Lunes', 'Martes', 'Miércoles', 'Jueves', 'Viernes', 'Sábado', 'Domingo']\n",
    "fig, ax = plt.subplots()  # Create a figure and an axes.\n",
    "gastos2 = merged[merged.tipo=='gasto'].groupby(merged.Fecha.dt.weekday).sum()\n",
    "gastos2.Haber.plot.bar()\n",
    "ax.set_xticklabels(dias_semana)\n",
    "ax.set_title('Gastos')\n",
    "ax.set_xlabel('día semana')\n",
    "ax.set_ylabel('euros')"
   ]
  },
  {
   "cell_type": "code",
   "execution_count": 23,
   "metadata": {},
   "outputs": [
    {
     "data": {
      "text/plain": [
       "Text(0, 0.5, 'euros')"
      ]
     },
     "execution_count": 23,
     "metadata": {},
     "output_type": "execute_result"
    },
    {
     "data": {
      "image/png": "[encoded data removed]",
      "text/plain": [
       "<Figure size 792x288 with 1 Axes>"
      ]
     },
     "metadata": {},
     "output_type": "display_data"
    }
   ],
   "source": [
    "fig, ax = plt.subplots()  # Create a figure and an axes.\n",
    "sns.barplot(y=gastos2.Haber, x=gastos2.index, ax=ax)\n",
    "ax.set_xticklabels(dias_semana)\n",
    "ax.set_title('Gastos')\n",
    "ax.set_xlabel('día semana')\n",
    "ax.set_ylabel('euros')"
   ]
  },
  {
   "cell_type": "code",
   "execution_count": 24,
   "metadata": {},
   "outputs": [
    {
     "data": {
      "text/html": [
       "<div>\n",
       "<style scoped>\n",
       "    .dataframe tbody tr th:only-of-type {\n",
       "        vertical-align: middle;\n",
       "    }\n",
       "\n",
       "    .dataframe tbody tr th {\n",
       "        vertical-align: top;\n",
       "    }\n",
       "\n",
       "    .dataframe thead th {\n",
       "        text-align: right;\n",
       "    }\n",
       "</style>\n",
       "<table border=\"1\" class=\"dataframe\">\n",
       "  <thead>\n",
       "    <tr style=\"text-align: right;\">\n",
       "      <th></th>\n",
       "      <th>Debe</th>\n",
       "      <th>Haber</th>\n",
       "    </tr>\n",
       "  </thead>\n",
       "  <tbody>\n",
       "    <tr>\n",
       "      <th>Enero</th>\n",
       "      <td>100000.0</td>\n",
       "      <td>2213.02</td>\n",
       "    </tr>\n",
       "    <tr>\n",
       "      <th>Febrero</th>\n",
       "      <td>0.0</td>\n",
       "      <td>1816.36</td>\n",
       "    </tr>\n",
       "    <tr>\n",
       "      <th>Marzo</th>\n",
       "      <td>0.0</td>\n",
       "      <td>2046.98</td>\n",
       "    </tr>\n",
       "    <tr>\n",
       "      <th>Abril</th>\n",
       "      <td>0.0</td>\n",
       "      <td>1908.02</td>\n",
       "    </tr>\n",
       "    <tr>\n",
       "      <th>Mayo</th>\n",
       "      <td>0.0</td>\n",
       "      <td>1964.04</td>\n",
       "    </tr>\n",
       "    <tr>\n",
       "      <th>Junio</th>\n",
       "      <td>0.0</td>\n",
       "      <td>2222.82</td>\n",
       "    </tr>\n",
       "    <tr>\n",
       "      <th>Julio</th>\n",
       "      <td>0.0</td>\n",
       "      <td>2087.65</td>\n",
       "    </tr>\n",
       "    <tr>\n",
       "      <th>Agosto</th>\n",
       "      <td>0.0</td>\n",
       "      <td>1840.95</td>\n",
       "    </tr>\n",
       "    <tr>\n",
       "      <th>Septiembre</th>\n",
       "      <td>0.0</td>\n",
       "      <td>2052.46</td>\n",
       "    </tr>\n",
       "    <tr>\n",
       "      <th>Octubre</th>\n",
       "      <td>0.0</td>\n",
       "      <td>1888.30</td>\n",
       "    </tr>\n",
       "    <tr>\n",
       "      <th>Noviembre</th>\n",
       "      <td>0.0</td>\n",
       "      <td>1987.52</td>\n",
       "    </tr>\n",
       "    <tr>\n",
       "      <th>Diciembre</th>\n",
       "      <td>0.0</td>\n",
       "      <td>1959.40</td>\n",
       "    </tr>\n",
       "  </tbody>\n",
       "</table>\n",
       "</div>"
      ],
      "text/plain": [
       "                Debe    Haber\n",
       "Enero       100000.0  2213.02\n",
       "Febrero          0.0  1816.36\n",
       "Marzo            0.0  2046.98\n",
       "Abril            0.0  1908.02\n",
       "Mayo             0.0  1964.04\n",
       "Junio            0.0  2222.82\n",
       "Julio            0.0  2087.65\n",
       "Agosto           0.0  1840.95\n",
       "Septiembre       0.0  2052.46\n",
       "Octubre          0.0  1888.30\n",
       "Noviembre        0.0  1987.52\n",
       "Diciembre        0.0  1959.40"
      ]
     },
     "execution_count": 24,
     "metadata": {},
     "output_type": "execute_result"
    }
   ],
   "source": [
    "gastos = merged[merged.tipo=='gasto'].groupby(merged.Fecha.dt.month).sum().drop(columns=['id', 'Cuenta'])\n",
    "gastos.index.rename('Mes', inplace=True)\n",
    "gastos.index=meses\n",
    "gastos"
   ]
  },
  {
   "cell_type": "code",
   "execution_count": 25,
   "metadata": {
    "scrolled": false
   },
   "outputs": [
    {
     "data": {
      "text/html": [
       "<div>\n",
       "<style scoped>\n",
       "    .dataframe tbody tr th:only-of-type {\n",
       "        vertical-align: middle;\n",
       "    }\n",
       "\n",
       "    .dataframe tbody tr th {\n",
       "        vertical-align: top;\n",
       "    }\n",
       "\n",
       "    .dataframe thead th {\n",
       "        text-align: right;\n",
       "    }\n",
       "</style>\n",
       "<table border=\"1\" class=\"dataframe\">\n",
       "  <thead>\n",
       "    <tr style=\"text-align: right;\">\n",
       "      <th></th>\n",
       "      <th>Debe</th>\n",
       "      <th>Haber</th>\n",
       "    </tr>\n",
       "  </thead>\n",
       "  <tbody>\n",
       "    <tr>\n",
       "      <th>1ro</th>\n",
       "      <td>7514.86</td>\n",
       "      <td>0.0</td>\n",
       "    </tr>\n",
       "    <tr>\n",
       "      <th>2do</th>\n",
       "      <td>7515.64</td>\n",
       "      <td>0.0</td>\n",
       "    </tr>\n",
       "    <tr>\n",
       "      <th>3ro</th>\n",
       "      <td>7514.01</td>\n",
       "      <td>0.0</td>\n",
       "    </tr>\n",
       "    <tr>\n",
       "      <th>4to</th>\n",
       "      <td>7513.14</td>\n",
       "      <td>0.0</td>\n",
       "    </tr>\n",
       "  </tbody>\n",
       "</table>\n",
       "</div>"
      ],
      "text/plain": [
       "        Debe  Haber\n",
       "1ro  7514.86    0.0\n",
       "2do  7515.64    0.0\n",
       "3ro  7514.01    0.0\n",
       "4to  7513.14    0.0"
      ]
     },
     "execution_count": 25,
     "metadata": {},
     "output_type": "execute_result"
    }
   ],
   "source": [
    "trimestres = ['1ro', '2do', '3ro', '4to']\n",
    "ingresos = merged[merged.tipo=='ingreso'].groupby(merged.Fecha.dt.quarter).sum().drop(columns=['id', 'Cuenta'])\n",
    "ingresos.index.rename('Mes', inplace=True)\n",
    "ingresos.index=trimestres\n",
    "ingresos"
   ]
  },
  {
   "cell_type": "code",
   "execution_count": 26,
   "metadata": {},
   "outputs": [
    {
     "data": {
      "text/html": [
       "<div>\n",
       "<style scoped>\n",
       "    .dataframe tbody tr th:only-of-type {\n",
       "        vertical-align: middle;\n",
       "    }\n",
       "\n",
       "    .dataframe tbody tr th {\n",
       "        vertical-align: top;\n",
       "    }\n",
       "\n",
       "    .dataframe thead th {\n",
       "        text-align: right;\n",
       "    }\n",
       "</style>\n",
       "<table border=\"1\" class=\"dataframe\">\n",
       "  <thead>\n",
       "    <tr style=\"text-align: right;\">\n",
       "      <th></th>\n",
       "      <th>Debe</th>\n",
       "      <th>Haber</th>\n",
       "    </tr>\n",
       "    <tr>\n",
       "      <th>Fecha</th>\n",
       "      <th></th>\n",
       "      <th></th>\n",
       "    </tr>\n",
       "  </thead>\n",
       "  <tbody>\n",
       "    <tr>\n",
       "      <th>1</th>\n",
       "      <td>100000.0</td>\n",
       "      <td>6076.36</td>\n",
       "    </tr>\n",
       "    <tr>\n",
       "      <th>2</th>\n",
       "      <td>0.0</td>\n",
       "      <td>6094.88</td>\n",
       "    </tr>\n",
       "    <tr>\n",
       "      <th>3</th>\n",
       "      <td>0.0</td>\n",
       "      <td>5981.06</td>\n",
       "    </tr>\n",
       "    <tr>\n",
       "      <th>4</th>\n",
       "      <td>0.0</td>\n",
       "      <td>5835.22</td>\n",
       "    </tr>\n",
       "  </tbody>\n",
       "</table>\n",
       "</div>"
      ],
      "text/plain": [
       "           Debe    Haber\n",
       "Fecha                   \n",
       "1      100000.0  6076.36\n",
       "2           0.0  6094.88\n",
       "3           0.0  5981.06\n",
       "4           0.0  5835.22"
      ]
     },
     "execution_count": 26,
     "metadata": {},
     "output_type": "execute_result"
    }
   ],
   "source": [
    "df = merged[merged.tipo=='gasto'].groupby(merged.Fecha.dt.quarter).sum().drop(columns=['id', 'Cuenta'])\n",
    "df"
   ]
  },
  {
   "cell_type": "code",
   "execution_count": 27,
   "metadata": {},
   "outputs": [
    {
     "data": {
      "text/plain": [
       "23987.519999999997"
      ]
     },
     "execution_count": 27,
     "metadata": {},
     "output_type": "execute_result"
    }
   ],
   "source": [
    "df.Haber.sum()"
   ]
  },
  {
   "cell_type": "code",
   "execution_count": 28,
   "metadata": {},
   "outputs": [],
   "source": [
    "df.reset_index(inplace=True)"
   ]
  },
  {
   "cell_type": "code",
   "execution_count": 29,
   "metadata": {},
   "outputs": [],
   "source": [
    "df.Fecha = [ trimestres[m-1] for m in df.Fecha ]"
   ]
  },
  {
   "cell_type": "code",
   "execution_count": 30,
   "metadata": {},
   "outputs": [
    {
     "data": {
      "text/html": [
       "<div>\n",
       "<style scoped>\n",
       "    .dataframe tbody tr th:only-of-type {\n",
       "        vertical-align: middle;\n",
       "    }\n",
       "\n",
       "    .dataframe tbody tr th {\n",
       "        vertical-align: top;\n",
       "    }\n",
       "\n",
       "    .dataframe thead th {\n",
       "        text-align: right;\n",
       "    }\n",
       "</style>\n",
       "<table border=\"1\" class=\"dataframe\">\n",
       "  <thead>\n",
       "    <tr style=\"text-align: right;\">\n",
       "      <th></th>\n",
       "      <th>Fecha</th>\n",
       "      <th>Debe</th>\n",
       "      <th>Haber</th>\n",
       "      <th>Total</th>\n",
       "    </tr>\n",
       "  </thead>\n",
       "  <tbody>\n",
       "    <tr>\n",
       "      <th>0</th>\n",
       "      <td>1ro</td>\n",
       "      <td>100000.0</td>\n",
       "      <td>6076.36</td>\n",
       "      <td>-93923.64</td>\n",
       "    </tr>\n",
       "    <tr>\n",
       "      <th>1</th>\n",
       "      <td>2do</td>\n",
       "      <td>0.0</td>\n",
       "      <td>6094.88</td>\n",
       "      <td>6094.88</td>\n",
       "    </tr>\n",
       "    <tr>\n",
       "      <th>2</th>\n",
       "      <td>3ro</td>\n",
       "      <td>0.0</td>\n",
       "      <td>5981.06</td>\n",
       "      <td>5981.06</td>\n",
       "    </tr>\n",
       "    <tr>\n",
       "      <th>3</th>\n",
       "      <td>4to</td>\n",
       "      <td>0.0</td>\n",
       "      <td>5835.22</td>\n",
       "      <td>5835.22</td>\n",
       "    </tr>\n",
       "  </tbody>\n",
       "</table>\n",
       "</div>"
      ],
      "text/plain": [
       "  Fecha      Debe    Haber     Total\n",
       "0   1ro  100000.0  6076.36 -93923.64\n",
       "1   2do       0.0  6094.88   6094.88\n",
       "2   3ro       0.0  5981.06   5981.06\n",
       "3   4to       0.0  5835.22   5835.22"
      ]
     },
     "execution_count": 30,
     "metadata": {},
     "output_type": "execute_result"
    }
   ],
   "source": [
    "df['Total'] = df.Haber - df.Debe\n",
    "df"
   ]
  },
  {
   "cell_type": "code",
   "execution_count": 31,
   "metadata": {},
   "outputs": [
    {
     "data": {
      "text/plain": [
       "Text(0, 0.5, 'euros')"
      ]
     },
     "execution_count": 31,
     "metadata": {},
     "output_type": "execute_result"
    },
    {
     "data": {
      "image/png": "[encoded data removed]",
      "text/plain": [
       "<Figure size 792x288 with 1 Axes>"
      ]
     },
     "metadata": {},
     "output_type": "display_data"
    }
   ],
   "source": [
    "fig, ax = plt.subplots()  # Create a figure and an axes.\n",
    "sns.barplot(y=df.Total, x=df.Fecha, ax=ax)\n",
    "ax.set_title('Gastos')\n",
    "ax.set_xlabel('Mes')\n",
    "ax.set_ylabel('euros')"
   ]
  },
  {
   "cell_type": "code",
   "execution_count": 32,
   "metadata": {},
   "outputs": [
    {
     "data": {
      "text/plain": [
       "0    1ro\n",
       "1    2do\n",
       "2    3ro\n",
       "3    4to\n",
       "Name: Fecha, dtype: object"
      ]
     },
     "execution_count": 32,
     "metadata": {},
     "output_type": "execute_result"
    }
   ],
   "source": [
    "df.Fecha"
   ]
  },
  {
   "cell_type": "code",
   "execution_count": 33,
   "metadata": {},
   "outputs": [
    {
     "data": {
      "text/plain": [
       "0    1ro\n",
       "1    2do\n",
       "2    3ro\n",
       "3    4to\n",
       "Name: Fecha, dtype: object"
      ]
     },
     "execution_count": 33,
     "metadata": {},
     "output_type": "execute_result"
    }
   ],
   "source": [
    "col = df.columns[0]\n",
    "df[col]"
   ]
  },
  {
   "cell_type": "code",
   "execution_count": 34,
   "metadata": {},
   "outputs": [
    {
     "data": {
      "text/plain": [
       "Text(0, 0.5, 'euros')"
      ]
     },
     "execution_count": 34,
     "metadata": {},
     "output_type": "execute_result"
    },
    {
     "data": {
      "image/png": "[encoded data removed]",
      "text/plain": [
       "<Figure size 1080x360 with 1 Axes>"
      ]
     },
     "metadata": {},
     "output_type": "display_data"
    }
   ],
   "source": [
    "plt.style.use('seaborn')\n",
    "fig, ax = plt.subplots(figsize=(15,5))  # Create a figure and an axes.\n",
    "df.Haber.plot.bar()\n",
    "ax.set_xticklabels(df.Fecha)\n",
    "ax.set_title('Gastos')\n",
    "ax.set_xlabel('Mes')\n",
    "ax.set_ylabel('euros')"
   ]
  },
  {
   "cell_type": "code",
   "execution_count": 35,
   "metadata": {},
   "outputs": [
    {
     "data": {
      "text/html": [
       "<div>\n",
       "<style scoped>\n",
       "    .dataframe tbody tr th:only-of-type {\n",
       "        vertical-align: middle;\n",
       "    }\n",
       "\n",
       "    .dataframe tbody tr th {\n",
       "        vertical-align: top;\n",
       "    }\n",
       "\n",
       "    .dataframe thead th {\n",
       "        text-align: right;\n",
       "    }\n",
       "</style>\n",
       "<table border=\"1\" class=\"dataframe\">\n",
       "  <thead>\n",
       "    <tr style=\"text-align: right;\">\n",
       "      <th></th>\n",
       "      <th>Fecha</th>\n",
       "      <th>Debe</th>\n",
       "      <th>Haber</th>\n",
       "      <th>Total</th>\n",
       "    </tr>\n",
       "  </thead>\n",
       "  <tbody>\n",
       "    <tr>\n",
       "      <th>0</th>\n",
       "      <td>1ro</td>\n",
       "      <td>100000.0</td>\n",
       "      <td>6076.36</td>\n",
       "      <td>-93923.64</td>\n",
       "    </tr>\n",
       "    <tr>\n",
       "      <th>1</th>\n",
       "      <td>2do</td>\n",
       "      <td>0.0</td>\n",
       "      <td>6094.88</td>\n",
       "      <td>6094.88</td>\n",
       "    </tr>\n",
       "    <tr>\n",
       "      <th>2</th>\n",
       "      <td>3ro</td>\n",
       "      <td>0.0</td>\n",
       "      <td>5981.06</td>\n",
       "      <td>5981.06</td>\n",
       "    </tr>\n",
       "    <tr>\n",
       "      <th>3</th>\n",
       "      <td>4to</td>\n",
       "      <td>0.0</td>\n",
       "      <td>5835.22</td>\n",
       "      <td>5835.22</td>\n",
       "    </tr>\n",
       "  </tbody>\n",
       "</table>\n",
       "</div>"
      ],
      "text/plain": [
       "  Fecha      Debe    Haber     Total\n",
       "0   1ro  100000.0  6076.36 -93923.64\n",
       "1   2do       0.0  6094.88   6094.88\n",
       "2   3ro       0.0  5981.06   5981.06\n",
       "3   4to       0.0  5835.22   5835.22"
      ]
     },
     "execution_count": 35,
     "metadata": {},
     "output_type": "execute_result"
    }
   ],
   "source": [
    "df"
   ]
  },
  {
   "cell_type": "code",
   "execution_count": 36,
   "metadata": {},
   "outputs": [
    {
     "name": "stdout",
     "output_type": "stream",
     "text": [
      "['Solarize_Light2', '_classic_test_patch', 'bmh', 'classic', 'dark_background', 'fast', 'fivethirtyeight', 'ggplot', 'grayscale', 'seaborn', 'seaborn-bright', 'seaborn-colorblind', 'seaborn-dark', 'seaborn-dark-palette', 'seaborn-darkgrid', 'seaborn-deep', 'seaborn-muted', 'seaborn-notebook', 'seaborn-paper', 'seaborn-pastel', 'seaborn-poster', 'seaborn-talk', 'seaborn-ticks', 'seaborn-white', 'seaborn-whitegrid', 'tableau-colorblind10']\n"
     ]
    }
   ],
   "source": [
    "print(plt.style.available)"
   ]
  },
  {
   "cell_type": "code",
   "execution_count": null,
   "metadata": {},
   "outputs": [],
   "source": []
  }
 ],
 "metadata": {
  "kernelspec": {
   "display_name": "Python 3",
   "language": "python",
   "name": "python3"
  },
  "language_info": {
   "codemirror_mode": {
    "name": "ipython",
    "version": 3
   },
   "file_extension": ".py",
   "mimetype": "text/x-python",
   "name": "python",
   "nbconvert_exporter": "python",
   "pygments_lexer": "ipython3",
   "version": "3.7.7"
  }
 },
 "nbformat": 4,
 "nbformat_minor": 4
}
